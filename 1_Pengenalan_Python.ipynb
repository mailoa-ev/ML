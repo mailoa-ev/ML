{
  "nbformat": 4,
  "nbformat_minor": 0,
  "metadata": {
    "colab": {
      "name": "1. Pengenalan Python.ipynb",
      "provenance": [],
      "collapsed_sections": [
        "fZwnCCONa4RV",
        "cDv65PD8a4Ra",
        "D1yQphbqa4R9",
        "mf1rEQ5Sa4SO",
        "Lv8fg7uZa4Us",
        "qPiJSdDyH4mp",
        "AxB9x9iNJIbR",
        "vWxsE8uAokrE",
        "OMC16hQvq0IZ",
        "RNVj7Ig3uzW6",
        "NY2cTrJe3o7r",
        "kHuypsV-BfWG",
        "UH2bmaK1CWL4",
        "BAPKcUe5Efjt",
        "YaSfYijP0q9F"
      ]
    },
    "language_info": {
      "codemirror_mode": {
        "name": "ipython",
        "version": 3
      },
      "file_extension": ".py",
      "mimetype": "text/x-python",
      "name": "python",
      "nbconvert_exporter": "python",
      "pygments_lexer": "ipython3",
      "version": "3.6.6"
    },
    "kernelspec": {
      "display_name": "Python 3",
      "language": "python",
      "name": "python3"
    }
  },
  "cells": [
    {
      "cell_type": "markdown",
      "metadata": {
        "id": "qVfou9aca4RU"
      },
      "source": [
        "<img src = \"https://evangsmailoa.files.wordpress.com/2019/09/ml.png\"  align = \"center\">"
      ]
    },
    {
      "cell_type": "markdown",
      "metadata": {
        "id": "fZwnCCONa4RV"
      },
      "source": [
        "#<h1>Selamat datang di materi belajar Python!</h1>"
      ]
    },
    {
      "cell_type": "markdown",
      "metadata": {
        "id": "KkWeDYrGa4RW"
      },
      "source": [
        "<p><strong>Hoiilllaaa Hallo!</strong> Pada materi ini kita belajar tentang dasar-dasar main pemrograman dengan bahasa Python!</p>\n",
        "<p>Selamat belajar!</p> "
      ]
    },
    {
      "cell_type": "markdown",
      "metadata": {
        "id": "cDv65PD8a4Ra"
      },
      "source": [
        "#<h2 id=\"hello\">Nulis \"Hoiillaaaa Hallo dunia!\" di Python</h2>"
      ]
    },
    {
      "cell_type": "markdown",
      "metadata": {
        "id": "rmgZ9cwla4Rb"
      },
      "source": [
        "Biasa kan kalo mulai belajar bahasa pemrograman baru kita suka nulis \"Hello World!\", Nah ini sama seperti itu :)"
      ]
    },
    {
      "cell_type": "markdown",
      "metadata": {
        "id": "LM6-SSIMa4Rc"
      },
      "source": [
        "<hr/>\n",
        "<div class=\"alert alert-success alertsuccess\" style=\"margin-top: 20px\">\n",
        "[Tip]: Untuk eksekusi, klik tanda **play** atau tekan <kbd>Shift</kbd> + <kbd>Enter</kbd> bersamaan.\n",
        "</div>\n",
        "<hr/>"
      ]
    },
    {
      "cell_type": "code",
      "metadata": {
        "id": "SdaDe0qYa4Rd",
        "colab": {
          "base_uri": "https://localhost:8080/"
        },
        "outputId": "f2cb2917-d681-4d84-eea5-6cf8909c10ef"
      },
      "source": [
        "print('Kelas Machine Learning E!')"
      ],
      "execution_count": null,
      "outputs": [
        {
          "output_type": "stream",
          "name": "stdout",
          "text": [
            "Kelas Machine Learning E!\n"
          ]
        }
      ]
    },
    {
      "cell_type": "code",
      "metadata": {
        "id": "-VBq_ZIOKjiX",
        "colab": {
          "base_uri": "https://localhost:8080/"
        },
        "outputId": "bd2873e7-2aac-48ee-d8df-6feeaa1871db"
      },
      "source": [
        "#ini tugas pertama\n",
        "print ('Selamat datang Evangs Mailoa!')\n"
      ],
      "execution_count": null,
      "outputs": [
        {
          "output_type": "stream",
          "name": "stdout",
          "text": [
            "Selamat datang Evangs Mailoa!\n"
          ]
        }
      ]
    },
    {
      "cell_type": "markdown",
      "metadata": {
        "id": "dtPRm_R9a4Rk"
      },
      "source": [
        "## <h3 id=\"version\">Cari tahu versi Python yang kita gunakan?</h3>"
      ]
    },
    {
      "cell_type": "markdown",
      "metadata": {
        "id": "xGHWVMmVa4Rl"
      },
      "source": [
        "<p>\n",
        "    Saat ini ada 2 versi Python yang paling sering kita gunakan: Python 2 dan Python 3. \n",
        "</p>\n",
        "<p>\n",
        "    Nah untuk tahu Python versi berapa yang kita gunakan, langsung saja eksekusi koding berikut:\n",
        "</p>"
      ]
    },
    {
      "cell_type": "code",
      "metadata": {
        "id": "wTbqkPEja4Rl",
        "colab": {
          "base_uri": "https://localhost:8080/",
          "height": 51
        },
        "outputId": "599d0ee9-1dbe-491c-b293-5e01dd6ad453"
      },
      "source": [
        "# Cek versi Python\n",
        "\n",
        "import sys\n",
        "print(sys.version)"
      ],
      "execution_count": null,
      "outputs": [
        {
          "output_type": "stream",
          "text": [
            "3.6.9 (default, Jul 17 2020, 12:50:27) \n",
            "[GCC 8.4.0]\n"
          ],
          "name": "stdout"
        }
      ]
    },
    {
      "cell_type": "markdown",
      "metadata": {
        "id": "jmKxbLUva4Rp"
      },
      "source": [
        "## <h3 id=\"comments\">Komentar di Python</h3>"
      ]
    },
    {
      "cell_type": "markdown",
      "metadata": {
        "id": "-Hhtc76Ha4Rq"
      },
      "source": [
        "<p>\n",
        "    Biasanya kita kasi komentar di koding kita supaya besok2 kalo lupa bisa lihat komentar supaya ingat lagi. Nah kalo di Python kita gunakan simbol <code>#</code> sebelum komentar. Nanti waktu dieksekusi Python abaikan semua di belakang <code>#</code> jadi amaaaannn.\n",
        "</p>"
      ]
    },
    {
      "cell_type": "code",
      "metadata": {
        "id": "Z0_yzsy2a4Rr",
        "colab": {
          "base_uri": "https://localhost:8080/",
          "height": 34
        },
        "outputId": "94709538-22f3-4435-d86c-a1f5d70fcc7a"
      },
      "source": [
        "#Latihan nulis komentar\n",
        "\n",
        "print('Hello, Python!') #Baris ini tidak akan dieksekusi!\n",
        "# print('Evangs Tetap Ganteng!')"
      ],
      "execution_count": null,
      "outputs": [
        {
          "output_type": "stream",
          "text": [
            "Hello, Python!\n"
          ],
          "name": "stdout"
        }
      ]
    },
    {
      "cell_type": "markdown",
      "metadata": {
        "id": "z_Nngb8ca4Rv"
      },
      "source": [
        "## <h3 id=\"errors\">Error yang sering muncul pas lagi main Python</h3>"
      ]
    },
    {
      "cell_type": "markdown",
      "metadata": {
        "id": "1Z0_5_JWa4Rw"
      },
      "source": [
        "<p>Everyone makes mistakes! Ya iyalah, tidak ada yang sempurna...Contoh, pas nulis <code>print</code> malah nulisnya <code>frint</code>, nanti Python akan bilang erros. Silakan dicoba!</p>"
      ]
    },
    {
      "cell_type": "code",
      "metadata": {
        "id": "F-af-nK6a4Rx",
        "colab": {
          "base_uri": "https://localhost:8080/",
          "height": 131
        },
        "outputId": "2617fcdd-5ef9-4a60-e661-cb1a202e5c8f"
      },
      "source": [
        "#Coba pesan penanda error\n",
        "\n",
        "print(\"Hello, Python!)"
      ],
      "execution_count": null,
      "outputs": [
        {
          "output_type": "error",
          "ename": "SyntaxError",
          "evalue": "ignored",
          "traceback": [
            "\u001b[0;36m  File \u001b[0;32m\"<ipython-input-5-c989995d7893>\"\u001b[0;36m, line \u001b[0;32m3\u001b[0m\n\u001b[0;31m    print(\"Hello, Python!)\u001b[0m\n\u001b[0m                          ^\u001b[0m\n\u001b[0;31mSyntaxError\u001b[0m\u001b[0;31m:\u001b[0m EOL while scanning string literal\n"
          ]
        }
      ]
    },
    {
      "cell_type": "code",
      "metadata": {
        "id": "ulaz0yHaa4R4"
      },
      "source": [
        "#Coba pesan penanda error\n",
        "\n",
        "print(\"Hello, Python!\")"
      ],
      "execution_count": null,
      "outputs": []
    },
    {
      "cell_type": "markdown",
      "metadata": {
        "id": "D1yQphbqa4R9"
      },
      "source": [
        "## <h3 id=\"python_error\">Python bisa tahu kode kita error atau gak sebelum dieksekusi?</h3>"
      ]
    },
    {
      "cell_type": "markdown",
      "metadata": {
        "id": "da3LqFbba4R_"
      },
      "source": [
        "Python itu kan <em>interpreted language</em> berbeda dengan <em> compiled languages</em>. Python akan hentikan eksekusi seluruh program kalo dia menemukan ada yang error."
      ]
    },
    {
      "cell_type": "code",
      "metadata": {
        "id": "4tWyLVrWa4SB"
      },
      "source": [
        "# Coba jalankan code berikut:\n",
        "\n",
        "print(\"This will be printed\")\n",
        "frint(\"This will cause an error\")\n",
        "print(\"This will NOT be printed\")"
      ],
      "execution_count": null,
      "outputs": []
    },
    {
      "cell_type": "markdown",
      "metadata": {
        "id": "0R-eE89Ya4SE"
      },
      "source": [
        "## <h3 id=\"exercise\">LATIHAN: Tulislah program pertamamu bosku!</h3>"
      ]
    },
    {
      "cell_type": "code",
      "metadata": {
        "id": "0WOzLzqWa4SF"
      },
      "source": [
        "# Tulis kodingmu yang isinya Hallo diikuti namamu! Kemudian tekan Shift+Enter untuk eksekusi.\n",
        "\n"
      ],
      "execution_count": null,
      "outputs": []
    },
    {
      "cell_type": "markdown",
      "metadata": {
        "id": "mf1rEQ5Sa4SO"
      },
      "source": [
        "# <h2 id=\"types_objects\">Tipe data di Python</h2>"
      ]
    },
    {
      "cell_type": "markdown",
      "metadata": {
        "id": "uZO4r8SSa4SO"
      },
      "source": [
        "<p>Python itu kan termasuk OOP. Nah ada beberapa tipe objek di Python, antara lain: <i>strings</i>, <i>integers</i> dan <i>floats</i>. Setiap kali bro/siz tulis sesuatu (text) di Python, otomatis menggunakan <i>character strings</i> (strings for short). Kalo nulis angka berarti <i>integers</i> (contoh: -1, 0, 100) dan <i>floats</i>, yang mewakili angka real, atau kalo kite orang Indonesia suka sebuat angka2 koma2 (contoh: 3.14, -42.0).</p>"
      ]
    },
    {
      "cell_type": "code",
      "metadata": {
        "id": "4zdRzLU7a4SS",
        "colab": {
          "base_uri": "https://localhost:8080/",
          "height": 34
        },
        "outputId": "fd18dc40-bc56-41f8-cfd2-1f3c8393fe6e"
      },
      "source": [
        "# Ini integer\n",
        "\n",
        "11"
      ],
      "execution_count": null,
      "outputs": [
        {
          "output_type": "execute_result",
          "data": {
            "text/plain": [
              "11"
            ]
          },
          "metadata": {
            "tags": []
          },
          "execution_count": 8
        }
      ]
    },
    {
      "cell_type": "code",
      "metadata": {
        "id": "YYeFGb2na4SX",
        "colab": {
          "base_uri": "https://localhost:8080/",
          "height": 34
        },
        "outputId": "d2558cb5-4845-40c6-fa45-87675da13d92"
      },
      "source": [
        "# Ini float\n",
        "\n",
        "2.14"
      ],
      "execution_count": null,
      "outputs": [
        {
          "output_type": "execute_result",
          "data": {
            "text/plain": [
              "2.14"
            ]
          },
          "metadata": {
            "tags": []
          },
          "execution_count": 9
        }
      ]
    },
    {
      "cell_type": "code",
      "metadata": {
        "id": "0qjebrPIa4Sd",
        "colab": {
          "base_uri": "https://localhost:8080/",
          "height": 34
        },
        "outputId": "569722f1-adee-4048-a9dd-ba481f606157"
      },
      "source": [
        "# Ini string\n",
        "\n",
        "\"Hello, Evangs Cakep!\""
      ],
      "execution_count": null,
      "outputs": [
        {
          "output_type": "execute_result",
          "data": {
            "text/plain": [
              "'Hello, Evangs Cakep!'"
            ]
          },
          "metadata": {
            "tags": []
          },
          "execution_count": 10
        }
      ]
    },
    {
      "cell_type": "code",
      "metadata": {
        "id": "ZP6kcTgca4Sn",
        "colab": {
          "base_uri": "https://localhost:8080/",
          "height": 34
        },
        "outputId": "ec4c545c-9764-4a8c-c7db-6dc3c72fabe3"
      },
      "source": [
        "# Cari tahu tipe dari 12 apa ya?\n",
        "\n",
        "type(12)"
      ],
      "execution_count": null,
      "outputs": [
        {
          "output_type": "execute_result",
          "data": {
            "text/plain": [
              "str"
            ]
          },
          "metadata": {
            "tags": []
          },
          "execution_count": 8
        }
      ]
    },
    {
      "cell_type": "code",
      "metadata": {
        "id": "fXeZ0FBBa4Sq",
        "colab": {
          "base_uri": "https://localhost:8080/",
          "height": 34
        },
        "outputId": "8e8b02ed-b4f7-4369-a32b-345627049ae0"
      },
      "source": [
        "# Tipe dari 2.14?\n",
        "\n",
        "type(2.14)"
      ],
      "execution_count": null,
      "outputs": [
        {
          "output_type": "execute_result",
          "data": {
            "text/plain": [
              "float"
            ]
          },
          "metadata": {
            "tags": []
          },
          "execution_count": 12
        }
      ]
    },
    {
      "cell_type": "code",
      "metadata": {
        "id": "_R2GQBWPa4Ss",
        "colab": {
          "base_uri": "https://localhost:8080/",
          "height": 34
        },
        "outputId": "d9ebf5dd-0fc3-4d08-9290-6ee3f6b28334"
      },
      "source": [
        "# Tipe dari \"Hello, Evangs Cakep!\"\n",
        "\n",
        "type(\"Hello, Python 101!\")"
      ],
      "execution_count": null,
      "outputs": [
        {
          "output_type": "execute_result",
          "data": {
            "text/plain": [
              "str"
            ]
          },
          "metadata": {
            "tags": []
          },
          "execution_count": 11
        }
      ]
    },
    {
      "cell_type": "markdown",
      "metadata": {
        "id": "w1XuOagaa4S0"
      },
      "source": [
        "## <h3 id=\"int\">Integer</h3>"
      ]
    },
    {
      "cell_type": "markdown",
      "metadata": {
        "id": "eSDWN_VEa4S1"
      },
      "source": [
        "<p>Integer tuh bisa angka negatif maupun positif:</p>"
      ]
    },
    {
      "cell_type": "markdown",
      "metadata": {
        "id": "7oAKJz2Na4S1"
      },
      "source": [
        "<a align=\"center\">\n",
        "    <img src=\"https://s3-api.us-geo.objectstorage.softlayer.net/cf-courses-data/CognitiveClass/PY0101EN/Chapter%201/Images/TypesInt.png\" width=\"600\">\n",
        "</a>"
      ]
    },
    {
      "cell_type": "code",
      "metadata": {
        "id": "yMCHRt8Ua4S3",
        "colab": {
          "base_uri": "https://localhost:8080/",
          "height": 34
        },
        "outputId": "422334e3-d905-4a9b-b645-6ba4974ca2ad"
      },
      "source": [
        "# Cetak tipe dari -1\n",
        "\n",
        "type(-1)"
      ],
      "execution_count": null,
      "outputs": [
        {
          "output_type": "execute_result",
          "data": {
            "text/plain": [
              "int"
            ]
          },
          "metadata": {
            "tags": []
          },
          "execution_count": 14
        }
      ]
    },
    {
      "cell_type": "code",
      "metadata": {
        "id": "WTNKbnI0a4S8",
        "colab": {
          "base_uri": "https://localhost:8080/",
          "height": 34
        },
        "outputId": "5622742c-796b-4ab5-a0ae-98599eefe953"
      },
      "source": [
        "# Cetak tipe dari 4\n",
        "\n",
        "type(4)"
      ],
      "execution_count": null,
      "outputs": [
        {
          "output_type": "execute_result",
          "data": {
            "text/plain": [
              "int"
            ]
          },
          "metadata": {
            "tags": []
          },
          "execution_count": 15
        }
      ]
    },
    {
      "cell_type": "code",
      "metadata": {
        "id": "S_zj_kMea4S-",
        "colab": {
          "base_uri": "https://localhost:8080/",
          "height": 34
        },
        "outputId": "49eb54d3-8ec1-4f86-c8c1-c292d7b4e99a"
      },
      "source": [
        "# Cetak tipe dari 0\n",
        "\n",
        "type(0)"
      ],
      "execution_count": null,
      "outputs": [
        {
          "output_type": "execute_result",
          "data": {
            "text/plain": [
              "int"
            ]
          },
          "metadata": {
            "tags": []
          },
          "execution_count": 16
        }
      ]
    },
    {
      "cell_type": "markdown",
      "metadata": {
        "id": "qPNqhV6ka4TB"
      },
      "source": [
        "## <h3 id=\"float\">Float</h3> "
      ]
    },
    {
      "cell_type": "markdown",
      "metadata": {
        "id": "o9pLdvDXa4TC"
      },
      "source": [
        "<p>Float tuh isinya angka real; kalo kita suka sebut angka koma2. Kalau mau detail float silakan cek <code>sys.float_info</code>. Nanti dikasi tahu seberapa besar dan kecil sebuah angka yang dapat diwakilkan oleh float.</p>"
      ]
    },
    {
      "cell_type": "code",
      "metadata": {
        "id": "rrfYYAPfa4TD",
        "colab": {
          "base_uri": "https://localhost:8080/",
          "height": 34
        },
        "outputId": "365d6fe9-c041-405b-b34d-4573fb91a197"
      },
      "source": [
        "# Cetak tipe dari 1.0\n",
        "\n",
        "type(1.0) # 1 itu integer, tapi 1.0 itu float"
      ],
      "execution_count": null,
      "outputs": [
        {
          "output_type": "execute_result",
          "data": {
            "text/plain": [
              "float"
            ]
          },
          "metadata": {
            "tags": []
          },
          "execution_count": 17
        }
      ]
    },
    {
      "cell_type": "code",
      "metadata": {
        "id": "fk3XPZtUa4TG",
        "colab": {
          "base_uri": "https://localhost:8080/",
          "height": 34
        },
        "outputId": "d216512e-fd4e-4b37-d865-4c7808a9a01e"
      },
      "source": [
        "# Cetak tipe dari 0.5\n",
        "\n",
        "type(0.5)"
      ],
      "execution_count": null,
      "outputs": [
        {
          "output_type": "execute_result",
          "data": {
            "text/plain": [
              "float"
            ]
          },
          "metadata": {
            "tags": []
          },
          "execution_count": 18
        }
      ]
    },
    {
      "cell_type": "code",
      "metadata": {
        "id": "l8xod6RPa4TI",
        "colab": {
          "base_uri": "https://localhost:8080/",
          "height": 34
        },
        "outputId": "0e13b9c0-bd41-4872-c511-23a51a116fe5"
      },
      "source": [
        "# Cetak tipe dari 0.56\n",
        "\n",
        "type(0.56)"
      ],
      "execution_count": null,
      "outputs": [
        {
          "output_type": "execute_result",
          "data": {
            "text/plain": [
              "float"
            ]
          },
          "metadata": {
            "tags": []
          },
          "execution_count": 19
        }
      ]
    },
    {
      "cell_type": "code",
      "metadata": {
        "id": "DbDm3zAXa4TO",
        "colab": {
          "base_uri": "https://localhost:8080/",
          "height": 54
        },
        "outputId": "e8f45b8f-e5ae-4d00-a831-17fe8d78dbcc"
      },
      "source": [
        "# System settings untuk tahu detail tipe float\n",
        "\n",
        "sys.float_info"
      ],
      "execution_count": null,
      "outputs": [
        {
          "output_type": "execute_result",
          "data": {
            "text/plain": [
              "sys.float_info(max=1.7976931348623157e+308, max_exp=1024, max_10_exp=308, min=2.2250738585072014e-308, min_exp=-1021, min_10_exp=-307, dig=15, mant_dig=53, epsilon=2.220446049250313e-16, radix=2, rounds=1)"
            ]
          },
          "metadata": {
            "tags": []
          },
          "execution_count": 20
        }
      ]
    },
    {
      "cell_type": "markdown",
      "metadata": {
        "id": "JgrZIfu5a4TS"
      },
      "source": [
        "## <h3 id=\"convert\">Konversi dari tipe satu ke tipe lain</h3>"
      ]
    },
    {
      "cell_type": "markdown",
      "metadata": {
        "id": "BjqxgJHAa4TU"
      },
      "source": [
        "<p>Di Python mudah untuk konversi; kalo di Java disebut overcasting dan ribet tapi kalo di Python gampang coy! Konversi dari tipe satu ke tipe lain disebut typecasting. Contoh, konversi dari <i>integer</i> ke <i>float</i> (contoh: 2 ke 2.0).</p>\n",
        "<p>Markitcob! (Mari kita coba!)</p>"
      ]
    },
    {
      "cell_type": "code",
      "metadata": {
        "id": "X2wiBSgE8dOv",
        "colab": {
          "base_uri": "https://localhost:8080/",
          "height": 34
        },
        "outputId": "e8d4ed2e-736c-4e7a-b553-ea29f6e343f2"
      },
      "source": [
        "# Pertama cari tahu tipe dari angka yang mau dikonversi, misalkan angka 2\n",
        "\n",
        "type(2)"
      ],
      "execution_count": null,
      "outputs": [
        {
          "output_type": "execute_result",
          "data": {
            "text/plain": [
              "int"
            ]
          },
          "metadata": {
            "tags": []
          },
          "execution_count": 21
        }
      ]
    },
    {
      "cell_type": "code",
      "metadata": {
        "id": "85MLl5mCa4TY",
        "colab": {
          "base_uri": "https://localhost:8080/",
          "height": 34
        },
        "outputId": "d29b2d17-9ae8-42e5-b9f9-54a828fa4c10"
      },
      "source": [
        "# Mari kita konversi 2 ke float\n",
        "\n",
        "float(2)"
      ],
      "execution_count": null,
      "outputs": [
        {
          "output_type": "execute_result",
          "data": {
            "text/plain": [
              "2.0"
            ]
          },
          "metadata": {
            "tags": []
          },
          "execution_count": 22
        }
      ]
    },
    {
      "cell_type": "code",
      "metadata": {
        "id": "fn0D602ra4Tc",
        "colab": {
          "base_uri": "https://localhost:8080/",
          "height": 34
        },
        "outputId": "8ab1eef5-15bf-4d48-9626-cca8cd793a9c"
      },
      "source": [
        "# Nah sekarang sudah berubah itu bukan lagi int tapi sudah jadi float\n",
        "\n",
        "type(float(2))"
      ],
      "execution_count": null,
      "outputs": [
        {
          "output_type": "execute_result",
          "data": {
            "text/plain": [
              "float"
            ]
          },
          "metadata": {
            "tags": []
          },
          "execution_count": 23
        }
      ]
    },
    {
      "cell_type": "markdown",
      "metadata": {
        "id": "i7C_NtTNa4Tf"
      },
      "source": [
        "<p>Kalo konversi integer ke float, tidak terlalu berpengaruh terhadap nilainya. Namun, kalo kita cast angka float ke integer, pasti akan hilang beberapa informasi. Contoh, kalo cast angka float 1.1 ke integer maka yang kita dapat hanya angka 1 dan kita kehilangan informasi desimalnya (0.1):</p>"
      ]
    },
    {
      "cell_type": "code",
      "metadata": {
        "id": "XAphrC8sa4Tf",
        "colab": {
          "base_uri": "https://localhost:8080/",
          "height": 34
        },
        "outputId": "02489d03-225a-4d0d-8b00-3940a7129cb2"
      },
      "source": [
        "# Casting 1.1 ke integer akan menyebabkan 'loss of information'\n",
        "\n",
        "int(1.1)"
      ],
      "execution_count": null,
      "outputs": [
        {
          "output_type": "execute_result",
          "data": {
            "text/plain": [
              "1"
            ]
          },
          "metadata": {
            "tags": []
          },
          "execution_count": 24
        }
      ]
    },
    {
      "cell_type": "markdown",
      "metadata": {
        "id": "DxM3Oqkga4Tt"
      },
      "source": [
        "<p>Kadang, kita punya string yang berisi angka2. nah untuk kasus begini, kita cast aja string itu ke integer pake <code>int()</code>:</p>"
      ]
    },
    {
      "cell_type": "code",
      "metadata": {
        "id": "ADF3Y3yMa4Tu",
        "colab": {
          "base_uri": "https://localhost:8080/",
          "height": 34
        },
        "outputId": "8ed0da7e-92ee-4539-c6b1-74718cefe5bd"
      },
      "source": [
        "# Konversi string ke integer\n",
        "\n",
        "int('1')"
      ],
      "execution_count": null,
      "outputs": [
        {
          "output_type": "execute_result",
          "data": {
            "text/plain": [
              "1"
            ]
          },
          "metadata": {
            "tags": []
          },
          "execution_count": 25
        }
      ]
    },
    {
      "cell_type": "markdown",
      "metadata": {
        "id": "cpqkCMFaa4Tz"
      },
      "source": [
        "<p>Tapi kalo kita coba string yang tidak sesuai dengan angka yang tepat, nanti malah error!</p> <p>Markitcob!:</p>"
      ]
    },
    {
      "cell_type": "code",
      "metadata": {
        "id": "C4muW09aa4T1",
        "colab": {
          "base_uri": "https://localhost:8080/",
          "height": 180
        },
        "outputId": "79d65914-76aa-4f7c-93d4-c3e02bdbc9f5"
      },
      "source": [
        "# Konversi sebuah string ke sebuah angka integer\n",
        "\n",
        "int('1 or 2 people')"
      ],
      "execution_count": null,
      "outputs": [
        {
          "output_type": "error",
          "ename": "ValueError",
          "evalue": "ignored",
          "traceback": [
            "\u001b[0;31m---------------------------------------------------------------------------\u001b[0m",
            "\u001b[0;31mValueError\u001b[0m                                Traceback (most recent call last)",
            "\u001b[0;32m<ipython-input-26-0103b7d9b262>\u001b[0m in \u001b[0;36m<module>\u001b[0;34m()\u001b[0m\n\u001b[1;32m      1\u001b[0m \u001b[0;34m\u001b[0m\u001b[0m\n\u001b[0;32m----> 2\u001b[0;31m \u001b[0mint\u001b[0m\u001b[0;34m(\u001b[0m\u001b[0;34m'1 or 2 people'\u001b[0m\u001b[0;34m)\u001b[0m\u001b[0;34m\u001b[0m\u001b[0;34m\u001b[0m\u001b[0m\n\u001b[0m",
            "\u001b[0;31mValueError\u001b[0m: invalid literal for int() with base 10: '1 or 2 people'"
          ]
        }
      ]
    },
    {
      "cell_type": "code",
      "metadata": {
        "id": "XyOVd3jUa4UB",
        "colab": {
          "base_uri": "https://localhost:8080/",
          "height": 34
        },
        "outputId": "0e2a9c92-f16a-42eb-d2e8-8f9f6710fea9"
      },
      "source": [
        "# Konversi integer ke string\n",
        "\n",
        "str(1)"
      ],
      "execution_count": null,
      "outputs": [
        {
          "output_type": "execute_result",
          "data": {
            "text/plain": [
              "'1'"
            ]
          },
          "metadata": {
            "tags": []
          },
          "execution_count": 27
        }
      ]
    },
    {
      "cell_type": "code",
      "metadata": {
        "id": "f04KcV0Na4UH",
        "colab": {
          "base_uri": "https://localhost:8080/",
          "height": 34
        },
        "outputId": "ce8ddaa9-1a31-44e8-c63b-c6725d012105"
      },
      "source": [
        "# Konversi float ke string\n",
        "\n",
        "str(1.2)"
      ],
      "execution_count": null,
      "outputs": [
        {
          "output_type": "execute_result",
          "data": {
            "text/plain": [
              "'1.2'"
            ]
          },
          "metadata": {
            "tags": []
          },
          "execution_count": 31
        }
      ]
    },
    {
      "cell_type": "markdown",
      "metadata": {
        "id": "k7n2LhaPa4UJ"
      },
      "source": [
        "## <h3 id=\"bool\">Tipe Boolean</h3>"
      ]
    },
    {
      "cell_type": "markdown",
      "metadata": {
        "id": "XTwYrLlFa4UK"
      },
      "source": [
        "<p><i>Boolean</i> salah satu tipe yang penting juga di Python. Sebuah <i>Boolean</i> punya satu atau dua nilai: <code>True</code> or <code>False</code>:</p>"
      ]
    },
    {
      "cell_type": "code",
      "metadata": {
        "id": "asDQybS7a4UM",
        "colab": {
          "base_uri": "https://localhost:8080/",
          "height": 34
        },
        "outputId": "2f02af8f-adbf-4cff-bf59-fee083f384f9"
      },
      "source": [
        "# Bernilai TRUE\n",
        "\n",
        "True"
      ],
      "execution_count": null,
      "outputs": [
        {
          "output_type": "execute_result",
          "data": {
            "text/plain": [
              "True"
            ]
          },
          "metadata": {
            "tags": []
          },
          "execution_count": 28
        }
      ]
    },
    {
      "cell_type": "code",
      "metadata": {
        "id": "Fe-erKcZa4UP",
        "colab": {
          "base_uri": "https://localhost:8080/",
          "height": 34
        },
        "outputId": "544761f5-da86-47dc-a657-ade53f68c327"
      },
      "source": [
        "# Bernilai FALSE\n",
        "\n",
        "False"
      ],
      "execution_count": null,
      "outputs": [
        {
          "output_type": "execute_result",
          "data": {
            "text/plain": [
              "False"
            ]
          },
          "metadata": {
            "tags": []
          },
          "execution_count": 29
        }
      ]
    },
    {
      "cell_type": "code",
      "metadata": {
        "id": "oCdwKQuHa4UR",
        "colab": {
          "base_uri": "https://localhost:8080/",
          "height": 34
        },
        "outputId": "bf812c3c-4882-4ff3-9d3c-24a145be7c82"
      },
      "source": [
        "type(True)"
      ],
      "execution_count": null,
      "outputs": [
        {
          "output_type": "execute_result",
          "data": {
            "text/plain": [
              "bool"
            ]
          },
          "metadata": {
            "tags": []
          },
          "execution_count": 30
        }
      ]
    },
    {
      "cell_type": "code",
      "metadata": {
        "id": "XBieSUbNa4UT",
        "colab": {
          "base_uri": "https://localhost:8080/",
          "height": 34
        },
        "outputId": "9fde002d-a3d7-4133-88f4-959bf157bc41"
      },
      "source": [
        "type(False)"
      ],
      "execution_count": null,
      "outputs": [
        {
          "output_type": "execute_result",
          "data": {
            "text/plain": [
              "bool"
            ]
          },
          "metadata": {
            "tags": []
          },
          "execution_count": 31
        }
      ]
    },
    {
      "cell_type": "code",
      "metadata": {
        "id": "ATODCv3na4UV",
        "colab": {
          "base_uri": "https://localhost:8080/",
          "height": 34
        },
        "outputId": "964132bc-e156-4eff-f263-e9ddad2b830e"
      },
      "source": [
        "# Konversi TRUE ke integer\n",
        "\n",
        "int(True)"
      ],
      "execution_count": null,
      "outputs": [
        {
          "output_type": "execute_result",
          "data": {
            "text/plain": [
              "1"
            ]
          },
          "metadata": {
            "tags": []
          },
          "execution_count": 32
        }
      ]
    },
    {
      "cell_type": "code",
      "metadata": {
        "id": "UEBlaM1Ka4UX",
        "colab": {
          "base_uri": "https://localhost:8080/",
          "height": 34
        },
        "outputId": "0c2bb578-bfe6-4bd7-eda8-ebc3771e7163"
      },
      "source": [
        "# Konversi 1 ke boolean\n",
        "\n",
        "bool(1)"
      ],
      "execution_count": null,
      "outputs": [
        {
          "output_type": "execute_result",
          "data": {
            "text/plain": [
              "True"
            ]
          },
          "metadata": {
            "tags": []
          },
          "execution_count": 35
        }
      ]
    },
    {
      "cell_type": "code",
      "metadata": {
        "id": "Io-pqQlVa4UZ",
        "colab": {
          "base_uri": "https://localhost:8080/",
          "height": 34
        },
        "outputId": "c63db17e-1244-4294-905e-16ecf4923129"
      },
      "source": [
        "# Konversi 0 ke boolean\n",
        "\n",
        "bool(0)"
      ],
      "execution_count": null,
      "outputs": [
        {
          "output_type": "execute_result",
          "data": {
            "text/plain": [
              "False"
            ]
          },
          "metadata": {
            "tags": []
          },
          "execution_count": 34
        }
      ]
    },
    {
      "cell_type": "code",
      "metadata": {
        "id": "lefh8J-1a4Uc",
        "colab": {
          "base_uri": "https://localhost:8080/",
          "height": 34
        },
        "outputId": "ab56d4bd-68e1-41ad-ad19-d608d233917f"
      },
      "source": [
        "# Konversi TRUE to float\n",
        "\n",
        "float(True)"
      ],
      "execution_count": null,
      "outputs": [
        {
          "output_type": "execute_result",
          "data": {
            "text/plain": [
              "1.0"
            ]
          },
          "metadata": {
            "tags": []
          },
          "execution_count": 36
        }
      ]
    },
    {
      "cell_type": "markdown",
      "metadata": {
        "id": "uY8CSnAQa4Uh"
      },
      "source": [
        "## <h3 id=\"exer_type\">LATIHAN: </h3>"
      ]
    },
    {
      "cell_type": "markdown",
      "metadata": {
        "id": "f5Sugfdba4Ui"
      },
      "source": [
        "<p>Cari tahu tipe data dari: <code>6 / 2</code>?</p>"
      ]
    },
    {
      "cell_type": "code",
      "metadata": {
        "id": "oN3v6DoPa4Uj",
        "colab": {
          "base_uri": "https://localhost:8080/",
          "height": 34
        },
        "outputId": "def93bf3-0c08-4b47-b21e-0933e8aa1124"
      },
      "source": [
        "# Tulis kodingmu kemudian eksekusi!\n"
      ],
      "execution_count": null,
      "outputs": [
        {
          "output_type": "execute_result",
          "data": {
            "text/plain": [
              "float"
            ]
          },
          "metadata": {
            "tags": []
          },
          "execution_count": 77
        }
      ]
    },
    {
      "cell_type": "markdown",
      "metadata": {
        "id": "tadbmJbJa4Un"
      },
      "source": [
        "<p>Kira2 apa hasilnya: <code>6 // 2</code>? (Kalo pake <code>//</code>)</p>"
      ]
    },
    {
      "cell_type": "code",
      "metadata": {
        "id": "5FMQMGRX_zl7"
      },
      "source": [
        ""
      ],
      "execution_count": null,
      "outputs": []
    },
    {
      "cell_type": "markdown",
      "metadata": {
        "id": "Lv8fg7uZa4Us"
      },
      "source": [
        "# <h2 id=\"expressions\">Ekspresi dan Variabel</h2>"
      ]
    },
    {
      "cell_type": "markdown",
      "metadata": {
        "id": "gy9f3vbWa4Ut"
      },
      "source": [
        "<h3 id=\"exp\">Ekspresi</h3>"
      ]
    },
    {
      "cell_type": "markdown",
      "metadata": {
        "id": "fbcQQQwYa4Uu"
      },
      "source": [
        "<p>Ekspresi dalam Python berisi dasar operasi aritmatika seperti tambah, kurang, kali, bagi:</p>"
      ]
    },
    {
      "cell_type": "code",
      "metadata": {
        "id": "XW8BxuAha4Uv",
        "colab": {
          "base_uri": "https://localhost:8080/",
          "height": 34
        },
        "outputId": "58fa3b9f-288d-4631-cf67-43c0e41a27e7"
      },
      "source": [
        "# Penjumlahan\n",
        "\n",
        "43 + 60 + 16 + 41"
      ],
      "execution_count": null,
      "outputs": [
        {
          "output_type": "execute_result",
          "data": {
            "text/plain": [
              "160"
            ]
          },
          "metadata": {
            "tags": []
          },
          "execution_count": 38
        }
      ]
    },
    {
      "cell_type": "code",
      "metadata": {
        "id": "G1B5BDima4Uz",
        "colab": {
          "base_uri": "https://localhost:8080/",
          "height": 34
        },
        "outputId": "6ebd6c18-93d1-4545-b051-aecdd85555f0"
      },
      "source": [
        "# Pengurangan\n",
        "\n",
        "50 - 60"
      ],
      "execution_count": null,
      "outputs": [
        {
          "output_type": "execute_result",
          "data": {
            "text/plain": [
              "-10"
            ]
          },
          "metadata": {
            "tags": []
          },
          "execution_count": 39
        }
      ]
    },
    {
      "cell_type": "code",
      "metadata": {
        "id": "4ejlFGL1a4U8",
        "colab": {
          "base_uri": "https://localhost:8080/",
          "height": 34
        },
        "outputId": "bf79818d-1a82-40de-8db4-462cc75ef257"
      },
      "source": [
        "# Perkalian\n",
        "\n",
        "5 * 5"
      ],
      "execution_count": null,
      "outputs": [
        {
          "output_type": "execute_result",
          "data": {
            "text/plain": [
              "25"
            ]
          },
          "metadata": {
            "tags": []
          },
          "execution_count": 40
        }
      ]
    },
    {
      "cell_type": "code",
      "metadata": {
        "id": "SAoJClw9a4U_",
        "colab": {
          "base_uri": "https://localhost:8080/",
          "height": 34
        },
        "outputId": "ce170b42-60b6-44ee-9794-d7295d94c82d"
      },
      "source": [
        "# Pembagian\n",
        "\n",
        "25 / 6"
      ],
      "execution_count": null,
      "outputs": [
        {
          "output_type": "execute_result",
          "data": {
            "text/plain": [
              "4.166666666666667"
            ]
          },
          "metadata": {
            "tags": []
          },
          "execution_count": 41
        }
      ]
    },
    {
      "cell_type": "code",
      "metadata": {
        "id": "UIsdvBfma4VH",
        "colab": {
          "base_uri": "https://localhost:8080/",
          "height": 34
        },
        "outputId": "ab06ea29-8cb6-49cf-9f3d-06507481befd"
      },
      "source": [
        "# Pembagian khusus mengambil integer\n",
        "\n",
        "25 // 6"
      ],
      "execution_count": null,
      "outputs": [
        {
          "output_type": "execute_result",
          "data": {
            "text/plain": [
              "4"
            ]
          },
          "metadata": {
            "tags": []
          },
          "execution_count": 42
        }
      ]
    },
    {
      "cell_type": "markdown",
      "metadata": {
        "id": "DHtf-AFGa4VJ"
      },
      "source": [
        "## <h3 id=\"exer_exp\">LATIHAN: </h3>"
      ]
    },
    {
      "cell_type": "markdown",
      "metadata": {
        "id": "PxlozGQAa4VJ"
      },
      "source": [
        "<p>Tulis koding untuk menghitung berapa banyak jam untuk 160 menit?"
      ]
    },
    {
      "cell_type": "code",
      "metadata": {
        "id": "AbjCCudLa4VK"
      },
      "source": [
        "# Tulis kodingmu di bawah!\n",
        "\n"
      ],
      "execution_count": null,
      "outputs": []
    },
    {
      "cell_type": "markdown",
      "metadata": {
        "id": "WWPt4mLqa4VM"
      },
      "source": [
        "Klik 2X __disini__ untuk lihat jawaban.\n",
        "\n",
        "<!-- Jawaban:\n",
        "160/60 \n",
        "# Atau\n",
        "160//60\n",
        "-->"
      ]
    },
    {
      "cell_type": "code",
      "metadata": {
        "id": "rR43d169a4VN",
        "colab": {
          "base_uri": "https://localhost:8080/",
          "height": 34
        },
        "outputId": "45b50e08-fc0b-41ad-bce3-01498f446a1e"
      },
      "source": [
        "# Ekspresi Matika-matika\n",
        "\n",
        "30 + 2 * 60"
      ],
      "execution_count": null,
      "outputs": [
        {
          "output_type": "execute_result",
          "data": {
            "text/plain": [
              "150"
            ]
          },
          "metadata": {
            "tags": []
          },
          "execution_count": 44
        }
      ]
    },
    {
      "cell_type": "code",
      "metadata": {
        "id": "_6vLgItga4VS",
        "colab": {
          "base_uri": "https://localhost:8080/",
          "height": 34
        },
        "outputId": "ab995d2b-e9bd-4cdb-f63b-687af35da97e"
      },
      "source": [
        "# Ekspresi Matika-matika\n",
        "\n",
        "(30 + 2) * 60"
      ],
      "execution_count": null,
      "outputs": [
        {
          "output_type": "execute_result",
          "data": {
            "text/plain": [
              "1920"
            ]
          },
          "metadata": {
            "tags": []
          },
          "execution_count": 45
        }
      ]
    },
    {
      "cell_type": "markdown",
      "metadata": {
        "id": "UGH2afUra4VW"
      },
      "source": [
        "## <h3 id=\"var\">Variabel</h3>"
      ]
    },
    {
      "cell_type": "code",
      "metadata": {
        "id": "_1SBG9l2a4VY"
      },
      "source": [
        "# Simpan hasil ke sebuah variabel X\n",
        "\n",
        "X = 43 + 60 + 16 + 41"
      ],
      "execution_count": null,
      "outputs": []
    },
    {
      "cell_type": "code",
      "metadata": {
        "id": "abbrBhIVa4Vc",
        "colab": {
          "base_uri": "https://localhost:8080/",
          "height": 34
        },
        "outputId": "8bc1d3c1-e842-4f1c-b326-9686612ed087"
      },
      "source": [
        "# Cetak X\n",
        "\n",
        "X"
      ],
      "execution_count": null,
      "outputs": [
        {
          "output_type": "execute_result",
          "data": {
            "text/plain": [
              "160"
            ]
          },
          "metadata": {
            "tags": []
          },
          "execution_count": 47
        }
      ]
    },
    {
      "cell_type": "code",
      "metadata": {
        "id": "lBjnJZHla4Vi",
        "colab": {
          "base_uri": "https://localhost:8080/",
          "height": 34
        },
        "outputId": "e1eeaeac-aff1-437c-a12d-b9c21835c7b6"
      },
      "source": [
        "# Kita bisa gunakan variabel tersebut untuk digabung ke variabel lainnya\n",
        "\n",
        "Y = X / 60\n",
        "Y"
      ],
      "execution_count": null,
      "outputs": [
        {
          "output_type": "execute_result",
          "data": {
            "text/plain": [
              "2.6666666666666665"
            ]
          },
          "metadata": {
            "tags": []
          },
          "execution_count": 49
        }
      ]
    },
    {
      "cell_type": "markdown",
      "metadata": {
        "id": "4w6PJrEca4V0"
      },
      "source": [
        "## <h3 id=\"exer_exp_var\">LATIHAN: </h3>"
      ]
    },
    {
      "cell_type": "markdown",
      "metadata": {
        "id": "XKpy1GjJa4V1"
      },
      "source": [
        "<p>Berapa nilai <code>X</code> jika <code> X = 3 + 2 * 2</code></p>"
      ]
    },
    {
      "cell_type": "code",
      "metadata": {
        "id": "gfmCHsoOa4V1"
      },
      "source": [
        "# Tulis kodingmu kemudian eksekusi!"
      ],
      "execution_count": null,
      "outputs": []
    },
    {
      "cell_type": "markdown",
      "metadata": {
        "id": "_wb_MW1da4V7"
      },
      "source": [
        "Klik 2X __disini__ untuk lihat jawaban.\n",
        "\n",
        "<!-- Jawaban:\n",
        "7\n",
        "-->\n"
      ]
    },
    {
      "cell_type": "markdown",
      "metadata": {
        "id": "MScST9hka4V7"
      },
      "source": [
        "<p>Berapa nilai <code>Y</code> jika <code>Y = (3 + 2) * 2</code>?</p>"
      ]
    },
    {
      "cell_type": "code",
      "metadata": {
        "id": "3zNBfOzua4V8"
      },
      "source": [
        "# Tulis kodingmu kemudian eksekusi!"
      ],
      "execution_count": null,
      "outputs": []
    },
    {
      "cell_type": "markdown",
      "metadata": {
        "id": "qpBAOYeOa4V-"
      },
      "source": [
        "Klik 2X __disini__ untuk lihat jawaban.\n",
        "\n",
        "<!-- Jawaban:\n",
        "10\n",
        "-->"
      ]
    },
    {
      "cell_type": "markdown",
      "metadata": {
        "id": "jRJeN1mja4WA"
      },
      "source": [
        "<p>Berapa nilai <code>Z</code> jika <code> Z = X + Y</code>?</p>"
      ]
    },
    {
      "cell_type": "code",
      "metadata": {
        "id": "0GYlGqbVa4WA"
      },
      "source": [
        "# Tulis kodingmu kemudian eksekusi!"
      ],
      "execution_count": null,
      "outputs": []
    },
    {
      "cell_type": "markdown",
      "metadata": {
        "id": "_FonNUYna4WC"
      },
      "source": [
        "Klik 2X __disini__ untuk lihat jawaban.\n",
        "\n",
        "<!-- Jawaban:\n",
        "17\n",
        "-->"
      ]
    },
    {
      "cell_type": "markdown",
      "metadata": {
        "id": "uQCA4rmFHznE"
      },
      "source": [
        "# <h1>String dalam Python</h1>"
      ]
    },
    {
      "cell_type": "markdown",
      "metadata": {
        "id": "qPiJSdDyH4mp"
      },
      "source": [
        "# <h2 id=\"strings\">Apa itu String?</h2>"
      ]
    },
    {
      "cell_type": "markdown",
      "metadata": {
        "id": "p9nTGPbMIFho"
      },
      "source": [
        "Contoh berikut menampilkan sebuah string yang berisi 2 kata:"
      ]
    },
    {
      "cell_type": "code",
      "metadata": {
        "id": "ZpDaTS1CIQp9",
        "colab": {
          "base_uri": "https://localhost:8080/",
          "height": 35
        },
        "outputId": "2e06b8e2-ef67-4ede-e54d-f8d3b9742576"
      },
      "source": [
        "# Contoh string yang dengan dua petik\n",
        "\n",
        "\"Evangs Mailoa\""
      ],
      "execution_count": null,
      "outputs": [
        {
          "output_type": "execute_result",
          "data": {
            "application/vnd.google.colaboratory.intrinsic+json": {
              "type": "string"
            },
            "text/plain": [
              "'Evangs Mailoa'"
            ]
          },
          "metadata": {
            "tags": []
          },
          "execution_count": 11
        }
      ]
    },
    {
      "cell_type": "code",
      "metadata": {
        "id": "ET93XIlBInE7",
        "colab": {
          "base_uri": "https://localhost:8080/",
          "height": 35
        },
        "outputId": "9c8fc99e-81a5-4bd6-9632-0d557a1c5bf3"
      },
      "source": [
        "# Contoh string yang dengan satu petik\n",
        "\n",
        "'Michael Jackson'"
      ],
      "execution_count": null,
      "outputs": [
        {
          "output_type": "execute_result",
          "data": {
            "application/vnd.google.colaboratory.intrinsic+json": {
              "type": "string"
            },
            "text/plain": [
              "'Michael Jackson'"
            ]
          },
          "metadata": {
            "tags": []
          },
          "execution_count": 12
        }
      ]
    },
    {
      "cell_type": "code",
      "metadata": {
        "id": "-OmNvVd-IxFU",
        "colab": {
          "base_uri": "https://localhost:8080/",
          "height": 35
        },
        "outputId": "14933e23-9423-4d97-c1b4-31abd080670a"
      },
      "source": [
        "# Contoh lain string\n",
        "\n",
        "'@#2_#]&*^%$'"
      ],
      "execution_count": null,
      "outputs": [
        {
          "output_type": "execute_result",
          "data": {
            "application/vnd.google.colaboratory.intrinsic+json": {
              "type": "string"
            },
            "text/plain": [
              "'@#2_#]&*^%$'"
            ]
          },
          "metadata": {
            "tags": []
          },
          "execution_count": 13
        }
      ]
    },
    {
      "cell_type": "code",
      "metadata": {
        "id": "ftecIxUvI8yB",
        "colab": {
          "base_uri": "https://localhost:8080/",
          "height": 35
        },
        "outputId": "fa796689-4eed-42db-ebb8-bc1e37d1e448"
      },
      "source": [
        "# Contoh string disimpan dalam variabel Nama\n",
        "\n",
        "Nama = \"Michael Jackson\"\n",
        "Nama"
      ],
      "execution_count": null,
      "outputs": [
        {
          "output_type": "execute_result",
          "data": {
            "application/vnd.google.colaboratory.intrinsic+json": {
              "type": "string"
            },
            "text/plain": [
              "'Michael Jackson'"
            ]
          },
          "metadata": {
            "tags": []
          },
          "execution_count": 15
        }
      ]
    },
    {
      "cell_type": "markdown",
      "metadata": {
        "id": "AxB9x9iNJIbR"
      },
      "source": [
        "# <h2 id=\"index\">Indexing</h2>"
      ]
    },
    {
      "cell_type": "markdown",
      "metadata": {
        "id": "_KfwSWbbJJ_E"
      },
      "source": [
        "Sebuah string tersusun rapi seperti array, yang disebut Index!   "
      ]
    },
    {
      "cell_type": "markdown",
      "metadata": {
        "id": "Dis4giw1JZA_"
      },
      "source": [
        "<img src=\"https://s3-api.us-geo.objectstorage.softlayer.net/cf-courses-data/CognitiveClass/PY0101EN/Chapter%201/Images/StringsIndex.png\" width=\"600\" align=\"center\" />"
      ]
    },
    {
      "cell_type": "markdown",
      "metadata": {
        "id": "9ReQodIdJagu"
      },
      "source": [
        "Cara baca index-nya sebagai berikut:"
      ]
    },
    {
      "cell_type": "code",
      "metadata": {
        "id": "93zczU5_JhkS",
        "colab": {
          "base_uri": "https://localhost:8080/",
          "height": 34
        },
        "outputId": "a7db05a3-bba3-49fc-bca8-c9470a4309ff"
      },
      "source": [
        "# Cetak elemen 1 dari string variabel Nama\n",
        "\n",
        "print(Nama[0])"
      ],
      "execution_count": null,
      "outputs": [
        {
          "output_type": "stream",
          "text": [
            "M\n"
          ],
          "name": "stdout"
        }
      ]
    },
    {
      "cell_type": "code",
      "metadata": {
        "id": "LVj2Xq0oJsxb",
        "colab": {
          "base_uri": "https://localhost:8080/",
          "height": 34
        },
        "outputId": "d956e853-bbfe-41dd-dc9c-e26993e7d096"
      },
      "source": [
        "# Cetak elemen ke-13\n",
        "\n",
        "print(Nama[13])"
      ],
      "execution_count": null,
      "outputs": [
        {
          "output_type": "stream",
          "text": [
            "o\n"
          ],
          "name": "stdout"
        }
      ]
    },
    {
      "cell_type": "markdown",
      "metadata": {
        "id": "gTDjjKHdJ8zs"
      },
      "source": [
        "## <h3 id=\"neg\">Negative Indexing</h3>"
      ]
    },
    {
      "cell_type": "markdown",
      "metadata": {
        "id": "DlXTA9ojJ-i_"
      },
      "source": [
        " Di Python, kita juga bisa gunakan <b> negative indexing </b> dalam string:"
      ]
    },
    {
      "cell_type": "markdown",
      "metadata": {
        "id": "g--XeZbJKM8E"
      },
      "source": [
        "<img src=\"https://s3-api.us-geo.objectstorage.softlayer.net/cf-courses-data/CognitiveClass/PY0101EN/Chapter%201/Images/StringsNeg.png\" width=\"600\" align=\"center\" />"
      ]
    },
    {
      "cell_type": "markdown",
      "metadata": {
        "id": "L1Opz6WrKRc1"
      },
      "source": [
        "Elemen terakhir diberikan index -1: "
      ]
    },
    {
      "cell_type": "code",
      "metadata": {
        "id": "HkDjrkpiKXTA",
        "colab": {
          "base_uri": "https://localhost:8080/",
          "height": 34
        },
        "outputId": "ff9af56e-d8db-4d5b-8f57-743ac589ac68"
      },
      "source": [
        "# Cetak elemen terakhir dalam variabel Nama\n",
        "\n",
        "print(Nama[-15])"
      ],
      "execution_count": null,
      "outputs": [
        {
          "output_type": "stream",
          "text": [
            "M\n"
          ],
          "name": "stdout"
        }
      ]
    },
    {
      "cell_type": "code",
      "metadata": {
        "id": "GZ55BuvYKi4_",
        "colab": {
          "base_uri": "https://localhost:8080/",
          "height": 34
        },
        "outputId": "16c4dafd-af40-4221-e4b2-25d57dd0e1cd"
      },
      "source": [
        "# Panjangnya string\n",
        "\n",
        "len(\"Michaelhsodfhsdifjdsif iosdifhsdiofhosdhfioihs Jackson\")"
      ],
      "execution_count": null,
      "outputs": [
        {
          "output_type": "execute_result",
          "data": {
            "text/plain": [
              "54"
            ]
          },
          "metadata": {
            "tags": []
          },
          "execution_count": 21
        }
      ]
    },
    {
      "cell_type": "code",
      "metadata": {
        "id": "yIeil9PdK2PC"
      },
      "source": [
        ""
      ],
      "execution_count": null,
      "outputs": []
    },
    {
      "cell_type": "markdown",
      "metadata": {
        "id": "JCBTco3nK1eJ"
      },
      "source": [
        "## <h3 id=\"slice\">Slicing</h3>"
      ]
    },
    {
      "cell_type": "markdown",
      "metadata": {
        "id": "DaxXDo1fK20D"
      },
      "source": [
        "Kita dapat mengambil beberapa huruf dari string menggunakan <b>slicing</b>. Contoh kita ambil dari index 0 sampai 4, dan dari index 8 sampai 12:"
      ]
    },
    {
      "cell_type": "markdown",
      "metadata": {
        "id": "paGe3KNpLOSI"
      },
      "source": [
        "<img src=\"https://s3-api.us-geo.objectstorage.softlayer.net/cf-courses-data/CognitiveClass/PY0101EN/Chapter%201/Images/StringsSlice.png\" width=\"600\" align=\"center\" />"
      ]
    },
    {
      "cell_type": "code",
      "metadata": {
        "id": "GxsuATnRLNWi",
        "colab": {
          "base_uri": "https://localhost:8080/",
          "height": 35
        },
        "outputId": "4c3a56cf-38c6-406d-a722-50e24c5314b4"
      },
      "source": [
        "# Ambil slice (potongan) dari 0 sampai 3\n",
        "\n",
        "Nama[0:4]"
      ],
      "execution_count": null,
      "outputs": [
        {
          "output_type": "execute_result",
          "data": {
            "application/vnd.google.colaboratory.intrinsic+json": {
              "type": "string"
            },
            "text/plain": [
              "'Mich'"
            ]
          },
          "metadata": {
            "tags": []
          },
          "execution_count": 22
        }
      ]
    },
    {
      "cell_type": "code",
      "metadata": {
        "id": "yGKUX6qzLcRq",
        "colab": {
          "base_uri": "https://localhost:8080/",
          "height": 35
        },
        "outputId": "58630279-49ca-4197-bd19-15530456efec"
      },
      "source": [
        "# Ambil slice (potongan) dari 8 sampai 12\n",
        "\n",
        "Nama[8:12]"
      ],
      "execution_count": null,
      "outputs": [
        {
          "output_type": "execute_result",
          "data": {
            "application/vnd.google.colaboratory.intrinsic+json": {
              "type": "string"
            },
            "text/plain": [
              "'Jack'"
            ]
          },
          "metadata": {
            "tags": []
          },
          "execution_count": 23
        }
      ]
    },
    {
      "cell_type": "markdown",
      "metadata": {
        "id": "QA1iApqrLpLZ"
      },
      "source": [
        "## <h3 id=\"stride\">Stride</h3>"
      ]
    },
    {
      "cell_type": "markdown",
      "metadata": {
        "id": "TkwhlX5YLvBI"
      },
      "source": [
        "<b>Stride</b> tuh ambil berdasarkan keputusan tertentu, misalkan kelipatan 2:"
      ]
    },
    {
      "cell_type": "markdown",
      "metadata": {
        "id": "7chScyhULqgx"
      },
      "source": [
        "<img src=\"https://s3-api.us-geo.objectstorage.softlayer.net/cf-courses-data/CognitiveClass/PY0101EN/Chapter%201/Images/StringsStride.png\" width=\"600\" align=\"center\" />"
      ]
    },
    {
      "cell_type": "code",
      "metadata": {
        "id": "h4reNY-HL9ov",
        "colab": {
          "base_uri": "https://localhost:8080/",
          "height": 35
        },
        "outputId": "2d68a924-9e77-46d0-88b3-4d5c777323ec"
      },
      "source": [
        "# Ambil semua elemen kedua. Elemen dalam index 1, 3, 5 dst.\n",
        "\n",
        "Nama[::2]"
      ],
      "execution_count": null,
      "outputs": [
        {
          "output_type": "execute_result",
          "data": {
            "application/vnd.google.colaboratory.intrinsic+json": {
              "type": "string"
            },
            "text/plain": [
              "'McalJcsn'"
            ]
          },
          "metadata": {
            "tags": []
          },
          "execution_count": 24
        }
      ]
    },
    {
      "cell_type": "code",
      "metadata": {
        "id": "Yy7e3OliML2o",
        "colab": {
          "base_uri": "https://localhost:8080/",
          "height": 35
        },
        "outputId": "6fb8d50c-27d4-4b4f-d699-f80a936589a0"
      },
      "source": [
        "# Atau ambil semua elemen kedua dari index 0 hingga index 4\n",
        "\n",
        "Nama[0:7:5]"
      ],
      "execution_count": null,
      "outputs": [
        {
          "output_type": "execute_result",
          "data": {
            "application/vnd.google.colaboratory.intrinsic+json": {
              "type": "string"
            },
            "text/plain": [
              "'Me'"
            ]
          },
          "metadata": {
            "tags": []
          },
          "execution_count": 25
        }
      ]
    },
    {
      "cell_type": "markdown",
      "metadata": {
        "id": "XA0XlkqwMeWx"
      },
      "source": [
        "## <h3 id=\"concat\">Concatenate Strings</h3>"
      ]
    },
    {
      "cell_type": "markdown",
      "metadata": {
        "id": "URZeN-m2MgfT"
      },
      "source": [
        "Maksudnya kita bisa potong-potong string dan menyambungnya sesuka hati:"
      ]
    },
    {
      "cell_type": "code",
      "metadata": {
        "id": "lE0is037MpbZ"
      },
      "source": [
        "# Concatenate 2 string\n",
        "Nama = \"Evangs\"\n",
        "Statement = Nama + \" memang terbaeeeeeek dah!\"\n",
        "Statement"
      ],
      "execution_count": null,
      "outputs": []
    },
    {
      "cell_type": "code",
      "metadata": {
        "id": "sMzI6nzvM0AW"
      },
      "source": [
        "# Cetak string sebanyak 5X.\n",
        "\n",
        "5 * \"Evangs Ganteng\""
      ],
      "execution_count": null,
      "outputs": []
    },
    {
      "cell_type": "markdown",
      "metadata": {
        "id": "vWxsE8uAokrE"
      },
      "source": [
        "# <h2 id=\"escape\">Escape Sequences</h2>"
      ]
    },
    {
      "cell_type": "markdown",
      "metadata": {
        "id": "Pw9h6wmfo3sp"
      },
      "source": [
        "Tanda \"\\n\" berarti <b>new line</b> atau baris baru. Mirip-miriplah sama Bahasa C."
      ]
    },
    {
      "cell_type": "code",
      "metadata": {
        "id": "6w0PQFz6pXmz",
        "colab": {
          "base_uri": "https://localhost:8080/",
          "height": 51
        },
        "outputId": "dacb7bc2-d634-4ff0-b0a4-049b49def658"
      },
      "source": [
        "#Buat baris baru\n",
        "\n",
        "print(\"Evangs \\n cakep banget\")"
      ],
      "execution_count": null,
      "outputs": [
        {
          "output_type": "stream",
          "text": [
            "Evangs \n",
            " cakep banget\n"
          ],
          "name": "stdout"
        }
      ]
    },
    {
      "cell_type": "markdown",
      "metadata": {
        "id": "qSBuavHxqVLi"
      },
      "source": [
        "Tanda \"\\t\" berarti <b>tab</b> atau menjorok ke dalam."
      ]
    },
    {
      "cell_type": "code",
      "metadata": {
        "id": "Hmaaq7bRqfvD",
        "colab": {
          "base_uri": "https://localhost:8080/",
          "height": 34
        },
        "outputId": "1f229e6d-6eea-4d27-b59e-5ac4b177ec02"
      },
      "source": [
        "#Buat tab\n",
        "\n",
        "print(\"Evangs \\t\\t cakep banget\")"
      ],
      "execution_count": null,
      "outputs": [
        {
          "output_type": "stream",
          "text": [
            "Evangs \t\t cakep banget\n"
          ],
          "name": "stdout"
        }
      ]
    },
    {
      "cell_type": "markdown",
      "metadata": {
        "id": "OMC16hQvq0IZ"
      },
      "source": [
        "# <h2 id=\"operations\">Operasi dalam String</h2>"
      ]
    },
    {
      "cell_type": "markdown",
      "metadata": {
        "id": "ElDUOMHfq2AJ"
      },
      "source": [
        "Terdapat beberapa operasi string yang dapat kita lakukan dengan Python. Kita akan coba beberapa yang dasar ya.... Contoh: upper, lower, dsb. "
      ]
    },
    {
      "cell_type": "code",
      "metadata": {
        "id": "0Y73-QBorK4S",
        "colab": {
          "base_uri": "https://localhost:8080/",
          "height": 51
        },
        "outputId": "b3f64480-a52e-4a3f-b705-3fa7b6ddfce4"
      },
      "source": [
        "# Konversi string ke huruf besar\n",
        "\n",
        "A = \"Teknik Informatika FTI UKSW Salatiga\"\n",
        "print(\"Sebelum konversi:\", A)\n",
        "B = A.upper()\n",
        "print(\"Setelah konversi:\", B)"
      ],
      "execution_count": null,
      "outputs": [
        {
          "output_type": "stream",
          "text": [
            "Sebelum konversi: Teknik Informatika FTI UKSW Salatiga\n",
            "Setelah konversi: TEKNIK INFORMATIKA FTI UKSW SALATIGA\n"
          ],
          "name": "stdout"
        }
      ]
    },
    {
      "cell_type": "code",
      "metadata": {
        "id": "1X7qdBPirmGP",
        "colab": {
          "base_uri": "https://localhost:8080/",
          "height": 34
        },
        "outputId": "24ce845b-e8e2-4480-adf9-3178436c9273"
      },
      "source": [
        "# Gantikan sub-string lama dengan sub-string baru.\n",
        "\n",
        "A = \"Evangs cakep banget\"\n",
        "B = A.replace('Evangs', 'Brad Pitt')\n",
        "B"
      ],
      "execution_count": null,
      "outputs": [
        {
          "output_type": "execute_result",
          "data": {
            "text/plain": [
              "'Brad Pitt cakep banget'"
            ]
          },
          "metadata": {
            "tags": []
          },
          "execution_count": 8
        }
      ]
    },
    {
      "cell_type": "markdown",
      "metadata": {
        "id": "gJj7e3G9sAu8"
      },
      "source": [
        "<img src=\"https://s3-api.us-geo.objectstorage.softlayer.net/cf-courses-data/CognitiveClass/PY0101EN/Chapter%201/Images/StringsFind.png\" width=\"600\" align=\"center\" />"
      ]
    },
    {
      "cell_type": "code",
      "metadata": {
        "id": "0SdUV_7usE71",
        "colab": {
          "base_uri": "https://localhost:8080/",
          "height": 34
        },
        "outputId": "e55edb0b-0cfb-479d-ad11-0c4fc4e959cd"
      },
      "source": [
        "# Cari index awal substring dari sebuah string. \n",
        "\n",
        "Name = \"Michael Jackson\"\n",
        "Name.find('el')"
      ],
      "execution_count": null,
      "outputs": [
        {
          "output_type": "execute_result",
          "data": {
            "text/plain": [
              "5"
            ]
          },
          "metadata": {
            "tags": []
          },
          "execution_count": 13
        }
      ]
    },
    {
      "cell_type": "code",
      "metadata": {
        "id": "iFqvWijTsgb4",
        "colab": {
          "base_uri": "https://localhost:8080/",
          "height": 34
        },
        "outputId": "a97d26db-193d-43df-e269-8b1d21c8921f"
      },
      "source": [
        "Name = \"Michael Jackson\"\n",
        "Name.find('Jack')"
      ],
      "execution_count": null,
      "outputs": [
        {
          "output_type": "execute_result",
          "data": {
            "text/plain": [
              "8"
            ]
          },
          "metadata": {
            "tags": []
          },
          "execution_count": 14
        }
      ]
    },
    {
      "cell_type": "markdown",
      "metadata": {
        "id": "83ELgc8NtE58"
      },
      "source": [
        "# <h1>Tuples dalam Python</h1>"
      ]
    },
    {
      "cell_type": "markdown",
      "metadata": {
        "id": "RNVj7Ig3uzW6"
      },
      "source": [
        "# <h2 id=\"tuple\">Tuples</h2>"
      ]
    },
    {
      "cell_type": "markdown",
      "metadata": {
        "id": "Q_TkYD0gu3CO"
      },
      "source": [
        "Dalam Python, terdapat tipe data: string, integer and float. Ketiganya dapat digabung dalam sebuah <b>tuple</b> sebagai contoh:"
      ]
    },
    {
      "cell_type": "markdown",
      "metadata": {
        "id": "ImFzub0CvHon"
      },
      "source": [
        "<img src=\"https://s3-api.us-geo.objectstorage.softlayer.net/cf-courses-data/CognitiveClass/PY0101EN/Chapter%202/Images/TuplesType.png\" width=\"750\" align=\"center\" />"
      ]
    },
    {
      "cell_type": "code",
      "metadata": {
        "id": "9ZJU7gmvvM_H",
        "colab": {
          "base_uri": "https://localhost:8080/"
        },
        "outputId": "a3f50eba-5aff-4909-8c3a-12491c17c26e"
      },
      "source": [
        "# Buat sebuah tuple\n",
        "\n",
        "tuple1 = (\"disco\",10,1.2 )\n",
        "tuple1"
      ],
      "execution_count": null,
      "outputs": [
        {
          "output_type": "execute_result",
          "data": {
            "text/plain": [
              "('disco', 10, 1.2)"
            ]
          },
          "metadata": {},
          "execution_count": 1
        }
      ]
    },
    {
      "cell_type": "markdown",
      "metadata": {
        "id": "rfoWJm1WvLUL"
      },
      "source": [
        "Tipe datanya adalah <b>tuple</b>"
      ]
    },
    {
      "cell_type": "code",
      "metadata": {
        "id": "eerAw5givb_M",
        "colab": {
          "base_uri": "https://localhost:8080/",
          "height": 34
        },
        "outputId": "b63a9e0f-ee96-48eb-c77a-1716b39d0c6c"
      },
      "source": [
        "# Cetak tipe \n",
        "\n",
        "type(tuple1)"
      ],
      "execution_count": null,
      "outputs": [
        {
          "output_type": "execute_result",
          "data": {
            "text/plain": [
              "tuple"
            ]
          },
          "metadata": {
            "tags": []
          },
          "execution_count": 16
        }
      ]
    },
    {
      "cell_type": "markdown",
      "metadata": {
        "id": "CQ49RZsevl3V"
      },
      "source": [
        "## <h3 id=\"index\">Indexing</h3>"
      ]
    },
    {
      "cell_type": "markdown",
      "metadata": {
        "id": "lrGI9VZovp0Q"
      },
      "source": [
        "<img src=\"https://s3-api.us-geo.objectstorage.softlayer.net/cf-courses-data/CognitiveClass/PY0101EN/Chapter%202/Images/TuplesIndex.gif\" width=\"750\" align=\"center\">"
      ]
    },
    {
      "cell_type": "markdown",
      "metadata": {
        "id": "a18XBKQ8v0en"
      },
      "source": [
        "Kita dapat mencetak masing-masing <b>tuple</b>"
      ]
    },
    {
      "cell_type": "code",
      "metadata": {
        "id": "7A1S379UwAJx",
        "colab": {
          "base_uri": "https://localhost:8080/",
          "height": 68
        },
        "outputId": "c3dd460f-8d72-4a5a-8e6f-aab068788876"
      },
      "source": [
        "# Cetak satu persatu isi tuple\n",
        "\n",
        "print(tuple1[0])\n",
        "print(tuple1[1])\n",
        "print(tuple1[2])"
      ],
      "execution_count": null,
      "outputs": [
        {
          "output_type": "stream",
          "text": [
            "disco\n",
            "10\n",
            "1.2\n"
          ],
          "name": "stdout"
        }
      ]
    },
    {
      "cell_type": "code",
      "metadata": {
        "id": "4QRjeDX1wNyr",
        "colab": {
          "base_uri": "https://localhost:8080/",
          "height": 68
        },
        "outputId": "236ae8d0-32c6-458e-cd40-95a0f46b65fa"
      },
      "source": [
        "# Cetak tipe dari masing-masing index\n",
        "\n",
        "print(type(tuple1[0]))\n",
        "print(type(tuple1[1]))\n",
        "print(type(tuple1[2]))"
      ],
      "execution_count": null,
      "outputs": [
        {
          "output_type": "stream",
          "text": [
            "<class 'str'>\n",
            "<class 'int'>\n",
            "<class 'float'>\n"
          ],
          "name": "stdout"
        }
      ]
    },
    {
      "cell_type": "markdown",
      "metadata": {
        "id": "euj77ZpRwVgg"
      },
      "source": [
        "KIta juga dapat menggunakan indexing negatif."
      ]
    },
    {
      "cell_type": "markdown",
      "metadata": {
        "id": "XaqOSutVwbsG"
      },
      "source": [
        "<img src=\"https://s3-api.us-geo.objectstorage.softlayer.net/cf-courses-data/CognitiveClass/PY0101EN/Chapter%202/Images/TuplesNeg.png\" width=\"750\" align=\"center\">"
      ]
    },
    {
      "cell_type": "code",
      "metadata": {
        "id": "GvpWWzQ7whgh",
        "colab": {
          "base_uri": "https://localhost:8080/",
          "height": 34
        },
        "outputId": "e4481aa6-2b32-4df4-9605-4a822f4e0044"
      },
      "source": [
        "# Dengan indexing negatif untuk menampilkan elemen paling terakhir.\n",
        "\n",
        "tuple1[-1]"
      ],
      "execution_count": null,
      "outputs": [
        {
          "output_type": "execute_result",
          "data": {
            "text/plain": [
              "1.2"
            ]
          },
          "metadata": {
            "tags": []
          },
          "execution_count": 19
        }
      ]
    },
    {
      "cell_type": "code",
      "metadata": {
        "id": "Bo_1g4hbw1CY",
        "colab": {
          "base_uri": "https://localhost:8080/",
          "height": 34
        },
        "outputId": "6299a309-49af-46ab-e118-169fa8408657"
      },
      "source": [
        "tuple1[-3]"
      ],
      "execution_count": null,
      "outputs": [
        {
          "output_type": "execute_result",
          "data": {
            "text/plain": [
              "'disco'"
            ]
          },
          "metadata": {
            "tags": []
          },
          "execution_count": 20
        }
      ]
    },
    {
      "cell_type": "markdown",
      "metadata": {
        "id": "cPxPEdU_w6SX"
      },
      "source": [
        "## <h3 id=\"concate\">Concatenate Tuples</h3>"
      ]
    },
    {
      "cell_type": "markdown",
      "metadata": {
        "id": "IMPh9Ih5w9Gh"
      },
      "source": [
        "Kita dapat melakukan <b>concatenate</b> atau kombinasi <b>tuples</b> dengan menggunakan tanda **+** :"
      ]
    },
    {
      "cell_type": "code",
      "metadata": {
        "id": "87lU5A6rxPSJ",
        "colab": {
          "base_uri": "https://localhost:8080/",
          "height": 34
        },
        "outputId": "e432cf6e-740c-429d-931c-19c58a0ff2c9"
      },
      "source": [
        "# Concatenate dua tuple\n",
        "\n",
        "tuple2 = tuple1 + (\"hard rock\", 10)\n",
        "tuple2"
      ],
      "execution_count": null,
      "outputs": [
        {
          "output_type": "execute_result",
          "data": {
            "text/plain": [
              "('disco', 10, 1.2, 'hard rock', 10)"
            ]
          },
          "metadata": {
            "tags": []
          },
          "execution_count": 28
        }
      ]
    },
    {
      "cell_type": "markdown",
      "metadata": {
        "id": "EINu-vLkxUqm"
      },
      "source": [
        "Kita juga dapat melakukan <b>slicing</b>."
      ]
    },
    {
      "cell_type": "markdown",
      "metadata": {
        "id": "osH_kocYxaPI"
      },
      "source": [
        "<img src=\"https://s3-api.us-geo.objectstorage.softlayer.net/cf-courses-data/CognitiveClass/PY0101EN/Chapter%202/Images/TuplesSlice.gif\" width=\"750\" align=\"center\">"
      ]
    },
    {
      "cell_type": "code",
      "metadata": {
        "id": "2c2EkH9xxhni",
        "colab": {
          "base_uri": "https://localhost:8080/",
          "height": 34
        },
        "outputId": "91711adc-d8a0-4b5c-f720-37b8b7ca8523"
      },
      "source": [
        "# Slice dari index 0 sampai index 2\n",
        "\n",
        "tuple2[0:3]"
      ],
      "execution_count": null,
      "outputs": [
        {
          "output_type": "execute_result",
          "data": {
            "text/plain": [
              "('disco', 10, 1.2)"
            ]
          },
          "metadata": {
            "tags": []
          },
          "execution_count": 29
        }
      ]
    },
    {
      "cell_type": "code",
      "metadata": {
        "id": "7kh0dHxWxnYw",
        "colab": {
          "base_uri": "https://localhost:8080/",
          "height": 34
        },
        "outputId": "346213f4-7c39-4b6a-eb61-b61c6b15fd1b"
      },
      "source": [
        "# Slice dari index 3 sampai index 4\n",
        "\n",
        "tuple2[3:5]"
      ],
      "execution_count": null,
      "outputs": [
        {
          "output_type": "execute_result",
          "data": {
            "text/plain": [
              "('hard rock', 10)"
            ]
          },
          "metadata": {
            "tags": []
          },
          "execution_count": 30
        }
      ]
    },
    {
      "cell_type": "markdown",
      "metadata": {
        "id": "BUBJxiW9xxRG"
      },
      "source": [
        "## <h3 id=\"sort\">Sorting</h3>"
      ]
    },
    {
      "cell_type": "markdown",
      "metadata": {
        "id": "nEo0pK26xziS"
      },
      "source": [
        "Kita juga dapat melakukan <b>sorting</b> terhadap tuple."
      ]
    },
    {
      "cell_type": "code",
      "metadata": {
        "id": "kejDytsgyA0J"
      },
      "source": [
        "# Contoh sebuah tuple\n",
        "\n",
        "Ratings = (0, 9, 6, 5, 10, 8, 9, 6, 2)"
      ],
      "execution_count": null,
      "outputs": []
    },
    {
      "cell_type": "code",
      "metadata": {
        "id": "HgJWLS4EyVOs",
        "colab": {
          "base_uri": "https://localhost:8080/",
          "height": 34
        },
        "outputId": "40841732-833d-4c98-afbd-ceffc8474809"
      },
      "source": [
        "# Sorting sebuah tuple\n",
        "\n",
        "RatingsSorted = sorted(Ratings)\n",
        "RatingsSorted"
      ],
      "execution_count": null,
      "outputs": [
        {
          "output_type": "execute_result",
          "data": {
            "text/plain": [
              "[0, 2, 5, 6, 6, 8, 9, 9, 10]"
            ]
          },
          "metadata": {
            "tags": []
          },
          "execution_count": 27
        }
      ]
    },
    {
      "cell_type": "markdown",
      "metadata": {
        "id": "9WzD6FaKydJk"
      },
      "source": [
        "## <h3 id=\"nest\">Nested Tuple</h3>"
      ]
    },
    {
      "cell_type": "markdown",
      "metadata": {
        "id": "g2SvIBjnygDX"
      },
      "source": [
        "Bahasa kerennya tupel di dalam tuple."
      ]
    },
    {
      "cell_type": "code",
      "metadata": {
        "id": "m6fpbIGWy__Q"
      },
      "source": [
        "# Buat tuple di dalam tuple\n",
        "\n",
        "NestedT =(1, 2, (\"pop\", \"rock\") ,(3,4),(\"disco\",(1,2)))"
      ],
      "execution_count": null,
      "outputs": []
    },
    {
      "cell_type": "markdown",
      "metadata": {
        "id": "mb_OBGYNzIL4"
      },
      "source": [
        "<img src=\"https://s3-api.us-geo.objectstorage.softlayer.net/cf-courses-data/CognitiveClass/PY0101EN/Chapter%202/Images/TuplesNestOne.png\" width=\"750\" align=\"center\">"
      ]
    },
    {
      "cell_type": "code",
      "metadata": {
        "id": "S1b1k2xazN2M",
        "colab": {
          "base_uri": "https://localhost:8080/",
          "height": 102
        },
        "outputId": "6e9ef760-e3b4-4a9e-e12e-468f6e647ac8"
      },
      "source": [
        "# Cetak setiap elemen berdasarkan index\n",
        "\n",
        "print(\"Element 0 of Tuple: \", NestedT[0])\n",
        "print(\"Element 1 of Tuple: \", NestedT[1])\n",
        "print(\"Element 2 of Tuple: \", NestedT[2])\n",
        "print(\"Element 3 of Tuple: \", NestedT[3])\n",
        "print(\"Element 4 of Tuple: \", NestedT[4])"
      ],
      "execution_count": null,
      "outputs": [
        {
          "output_type": "stream",
          "text": [
            "Element 0 of Tuple:  1\n",
            "Element 1 of Tuple:  2\n",
            "Element 2 of Tuple:  ('pop', 'rock')\n",
            "Element 3 of Tuple:  (3, 4)\n",
            "Element 4 of Tuple:  ('disco', (1, 2))\n"
          ],
          "name": "stdout"
        }
      ]
    },
    {
      "cell_type": "markdown",
      "metadata": {
        "id": "fGe6PNmYzYz3"
      },
      "source": [
        "KIta juga dapat gunakan index kedua untuk akses ke tuple yang lain. Contoh:"
      ]
    },
    {
      "cell_type": "markdown",
      "metadata": {
        "id": "K6OS8KU7zg5S"
      },
      "source": [
        "<img src=\"https://s3-api.us-geo.objectstorage.softlayer.net/cf-courses-data/CognitiveClass/PY0101EN/Chapter%202/Images/TuplesNestTwo.png\" width=\"750\" align=\"center\">"
      ]
    },
    {
      "cell_type": "code",
      "metadata": {
        "id": "20OBecilzk0N"
      },
      "source": [
        "# Cetak element dari masing-masing index, termasuk index tuple di dalamnya\n",
        "\n",
        "print(\"Element 2, 0 of Tuple: \",   NestedT[2][0])\n",
        "print(\"Element 2, 1 of Tuple: \",   NestedT[2][1])\n",
        "print(\"Element 3, 0 of Tuple: \",   NestedT[3][0])\n",
        "print(\"Element 3, 1 of Tuple: \",   NestedT[3][1])\n",
        "print(\"Element 4, 0 of Tuple: \",   NestedT[4][0])\n",
        "print(\"Element 4, 1 of Tuple: \",   NestedT[4][1])"
      ],
      "execution_count": null,
      "outputs": []
    },
    {
      "cell_type": "code",
      "metadata": {
        "id": "wMN92Df4zykr",
        "colab": {
          "base_uri": "https://localhost:8080/",
          "height": 34
        },
        "outputId": "3d865fef-1fe6-462b-feb1-9a5f28b8227d"
      },
      "source": [
        "# Cetak elemen pertama di tuple kedua\n",
        "\n",
        "NestedT[2][1][0]"
      ],
      "execution_count": null,
      "outputs": [
        {
          "output_type": "execute_result",
          "data": {
            "text/plain": [
              "'r'"
            ]
          },
          "metadata": {
            "tags": []
          },
          "execution_count": 30
        }
      ]
    },
    {
      "cell_type": "markdown",
      "metadata": {
        "id": "PSQ8lOFSBQeg"
      },
      "source": [
        "# <h1>List dalam Python</h1>"
      ]
    },
    {
      "cell_type": "markdown",
      "metadata": {
        "id": "NY2cTrJe3o7r"
      },
      "source": [
        "# <h2 id=\"list\">Lists</h2>"
      ]
    },
    {
      "cell_type": "markdown",
      "metadata": {
        "id": "nGrvy0GP38Xy"
      },
      "source": [
        "Untuk membuat <b>list</b>, jangan lupa taruh tanda <b>[ ]</b>, dan isi dalam list harus dipisah dengan koma. <p>Markitcob!</p>"
      ]
    },
    {
      "cell_type": "code",
      "metadata": {
        "id": "DpVIWwb13-nW",
        "colab": {
          "base_uri": "https://localhost:8080/",
          "height": 34
        },
        "outputId": "e966d44c-4d0c-4493-e82b-64daaf982470"
      },
      "source": [
        "# Buat sebuah list\n",
        "\n",
        "L = [\"Michael Jackson\", 10.1, 1982]\n",
        "L"
      ],
      "execution_count": null,
      "outputs": [
        {
          "output_type": "execute_result",
          "data": {
            "text/plain": [
              "['Michael Jackson', 10.1, 1982]"
            ]
          },
          "metadata": {
            "tags": []
          },
          "execution_count": 31
        }
      ]
    },
    {
      "cell_type": "markdown",
      "metadata": {
        "id": "HKcY6lut38ah"
      },
      "source": [
        "Seperti biasa, kita dapat menggunakan indexing negatif."
      ]
    },
    {
      "cell_type": "markdown",
      "metadata": {
        "id": "s8-aIngs38rg"
      },
      "source": [
        "<img src=\"https://s3-api.us-geo.objectstorage.softlayer.net/cf-courses-data/CognitiveClass/PY0101EN/Chapter%202/Images/ListsNeg.png\" width=\"1000\" />"
      ]
    },
    {
      "cell_type": "code",
      "metadata": {
        "id": "6cniPWVy3-uA",
        "colab": {
          "base_uri": "https://localhost:8080/",
          "height": 34
        },
        "outputId": "c5495319-710d-4556-82b4-ab93cc8163ca"
      },
      "source": [
        "print('Elemen terakhir:' , L[-1] )"
      ],
      "execution_count": null,
      "outputs": [
        {
          "output_type": "stream",
          "text": [
            "Elemen terakhir: 1982\n"
          ],
          "name": "stdout"
        }
      ]
    },
    {
      "cell_type": "markdown",
      "metadata": {
        "id": "gBj6s-RI381g"
      },
      "source": [
        "## <h3 id=\"content\">Isi List</h3>"
      ]
    },
    {
      "cell_type": "markdown",
      "metadata": {
        "id": "Ef1X-ov7389x"
      },
      "source": [
        "Lists dapat berisi string, float, dan integer. Seperti biasa, kita bisa buat list dalam list. Contoh:"
      ]
    },
    {
      "cell_type": "code",
      "metadata": {
        "id": "ox1YKlQo39sT",
        "colab": {
          "base_uri": "https://localhost:8080/",
          "height": 34
        },
        "outputId": "61bf9162-9d23-48d8-f23b-6484fca545a6"
      },
      "source": [
        "# Contoh List\n",
        "\n",
        "[\"Michael Jackson\", 10.1, 1982, [1, 2], (\"A\", 1)]"
      ],
      "execution_count": null,
      "outputs": [
        {
          "output_type": "execute_result",
          "data": {
            "text/plain": [
              "['Michael Jackson', 10.1, 1982, [1, 2], ('A', 1)]"
            ]
          },
          "metadata": {
            "tags": []
          },
          "execution_count": 34
        }
      ]
    },
    {
      "cell_type": "markdown",
      "metadata": {
        "id": "LrZZRRXK39GZ"
      },
      "source": [
        "## <h3 id=\"op\">Operasi List</h3>"
      ]
    },
    {
      "cell_type": "markdown",
      "metadata": {
        "id": "TSXAv9hO39O5"
      },
      "source": [
        "Kita dapat melakukan slicing dalam list. Contoh, jika kita ingin ambil dua elemen terakhir maka kodingnya:"
      ]
    },
    {
      "cell_type": "code",
      "metadata": {
        "id": "Q7kaLZmC39yQ",
        "colab": {
          "base_uri": "https://localhost:8080/",
          "height": 34
        },
        "outputId": "f83850cb-d75f-4886-f9d8-2e800fabbadf"
      },
      "source": [
        "# Buat sebuah List\n",
        "\n",
        "L = [\"Michael Jackson\", 10.1,1982,\"MJ\",1]\n",
        "L"
      ],
      "execution_count": null,
      "outputs": [
        {
          "output_type": "execute_result",
          "data": {
            "text/plain": [
              "['Michael Jackson', 10.1, 1982, 'MJ', 1]"
            ]
          },
          "metadata": {
            "tags": []
          },
          "execution_count": 35
        }
      ]
    },
    {
      "cell_type": "markdown",
      "metadata": {
        "id": "_VD_1NhO39Z9"
      },
      "source": [
        "<img src=\"https://s3-api.us-geo.objectstorage.softlayer.net/cf-courses-data/CognitiveClass/PY0101EN/Chapter%202/Images/ListsSlice.png\" width=\"1000\">"
      ]
    },
    {
      "cell_type": "code",
      "metadata": {
        "id": "OoHMJ1kr52J1",
        "colab": {
          "base_uri": "https://localhost:8080/",
          "height": 34
        },
        "outputId": "73197dd9-0597-4e30-d43c-1a8f2f33b902"
      },
      "source": [
        "# Lakukan slicing untuk list\n",
        "\n",
        "L[3:5]"
      ],
      "execution_count": null,
      "outputs": [
        {
          "output_type": "execute_result",
          "data": {
            "text/plain": [
              "['MJ', 1]"
            ]
          },
          "metadata": {
            "tags": []
          },
          "execution_count": 36
        }
      ]
    },
    {
      "cell_type": "markdown",
      "metadata": {
        "id": "fpcafkje5167"
      },
      "source": [
        "Kita juga menambahkan isi list"
      ]
    },
    {
      "cell_type": "code",
      "metadata": {
        "id": "8ZXKqJ-I52Mc"
      },
      "source": [
        "# Gunakan extend untuk menambahkan isi ke dalam list\n",
        "\n",
        "L = [ \"Michael Jackson\", 10.2]\n",
        "L.extend(['pop', 10])\n",
        "L"
      ],
      "execution_count": null,
      "outputs": []
    },
    {
      "cell_type": "markdown",
      "metadata": {
        "id": "rRpsU7H9519p"
      },
      "source": [
        "Kita juga dapat menggunakan kode <b><code>append</code></b>:"
      ]
    },
    {
      "cell_type": "code",
      "metadata": {
        "id": "yhJZkLqv52QI"
      },
      "source": [
        "# Gunakan append untuk menambahkan isi ke dalam list\n",
        "\n",
        "L = [ \"Michael Jackson\", 10.2]\n",
        "L.append(['pop', 10])\n",
        "L"
      ],
      "execution_count": null,
      "outputs": []
    },
    {
      "cell_type": "markdown",
      "metadata": {
        "id": "qmrMtXAe52BH"
      },
      "source": [
        "List tuh <b>mutable</b>, sehingga kita dapat mengubah isinya suka-suka hati. sebagai contoh, kita ubah elemen pertamanya:\n",
        "\n"
      ]
    },
    {
      "cell_type": "code",
      "metadata": {
        "id": "wlAG8oka667W",
        "colab": {
          "base_uri": "https://localhost:8080/",
          "height": 51
        },
        "outputId": "6ad2e682-03c2-4dd4-e32d-36a3d37237d2"
      },
      "source": [
        "# Ganti elemen berdasarkan index\n",
        "\n",
        "A = [\"disco\", 10, 1.2]\n",
        "print('Sebelum tukar:', A)\n",
        "A[0] = 'hard rock'\n",
        "print('Setelah tukar:', A)"
      ],
      "execution_count": null,
      "outputs": [
        {
          "output_type": "stream",
          "text": [
            "Sebelum tukar: ['disco', 10, 1.2]\n",
            "Setelah tukar: ['hard rock', 10, 1.2]\n"
          ],
          "name": "stdout"
        }
      ]
    },
    {
      "cell_type": "markdown",
      "metadata": {
        "id": "Av9EJoB_67NN"
      },
      "source": [
        "Kita juga dapat menghapus isi list, gunakan <b>del</b>:"
      ]
    },
    {
      "cell_type": "code",
      "metadata": {
        "id": "0uQXfR0567A-",
        "colab": {
          "base_uri": "https://localhost:8080/",
          "height": 51
        },
        "outputId": "3ad87784-a3da-422a-8568-bb4b0b30bd76"
      },
      "source": [
        "# Hapus elemen dengan del\n",
        "\n",
        "print('Sebelum perubahan:', A)\n",
        "del(A[0])\n",
        "print('Setelah perubahan:', A)"
      ],
      "execution_count": null,
      "outputs": [
        {
          "output_type": "stream",
          "text": [
            "Sebelum perubahan: ['hard rock', 10, 1.2]\n",
            "Setelah perubahan: [10, 1.2]\n"
          ],
          "name": "stdout"
        }
      ]
    },
    {
      "cell_type": "markdown",
      "metadata": {
        "id": "CJo8E7AJ67Sa"
      },
      "source": [
        "Kita dapat konversi string ke dalam bentuk list menggunakan <b><code>split</code></b>:"
      ]
    },
    {
      "cell_type": "code",
      "metadata": {
        "id": "TsspUsBM66-M",
        "colab": {
          "base_uri": "https://localhost:8080/",
          "height": 34
        },
        "outputId": "64c24966-64b0-4911-bf52-10b602ebb60e"
      },
      "source": [
        "# Split sebuah string, default-nya adalah spasi\n",
        "\n",
        "'hard rock'.split()"
      ],
      "execution_count": null,
      "outputs": [
        {
          "output_type": "execute_result",
          "data": {
            "text/plain": [
              "['hard', 'rock']"
            ]
          },
          "metadata": {
            "tags": []
          },
          "execution_count": 39
        }
      ]
    },
    {
      "cell_type": "code",
      "metadata": {
        "id": "s2-S3vFx76V7",
        "colab": {
          "base_uri": "https://localhost:8080/",
          "height": 34
        },
        "outputId": "c2905e76-995f-4be0-b251-130aa812a1e5"
      },
      "source": [
        "# Split sebuah string dengan tanda koma\n",
        "\n",
        "'A,B,C,D'.split(',')"
      ],
      "execution_count": null,
      "outputs": [
        {
          "output_type": "execute_result",
          "data": {
            "text/plain": [
              "['A', 'B', 'C', 'D']"
            ]
          },
          "metadata": {
            "tags": []
          },
          "execution_count": 40
        }
      ]
    },
    {
      "cell_type": "markdown",
      "metadata": {
        "id": "1vyWzmS48BGd"
      },
      "source": [
        "## <h3 id=\"co\">Copy dan Clone List</h3>"
      ]
    },
    {
      "cell_type": "markdown",
      "metadata": {
        "id": "awCL0ZRL8BL2"
      },
      "source": [
        "Saat kita seting sebuah variabel <b>B</b> sama dengan variabel <b>A</b>; keduanya <b>A</b> dan <b>B</b> merupakan list dalam memori:"
      ]
    },
    {
      "cell_type": "code",
      "metadata": {
        "id": "Sgk6R0Bq76Zh",
        "colab": {
          "base_uri": "https://localhost:8080/",
          "height": 51
        },
        "outputId": "5a56bc38-10d7-439f-a0f5-b1853199b814"
      },
      "source": [
        "# Copy (copy by reference) isi list A\n",
        "\n",
        "A = [\"hard rock\", 10, 1.2]\n",
        "B = A\n",
        "print('A:', A)\n",
        "print('B:', B)"
      ],
      "execution_count": null,
      "outputs": [
        {
          "output_type": "stream",
          "text": [
            "A: ['hard rock', 10, 1.2]\n",
            "B: ['hard rock', 10, 1.2]\n"
          ],
          "name": "stdout"
        }
      ]
    },
    {
      "cell_type": "markdown",
      "metadata": {
        "id": "2UUGLNOR8BJa"
      },
      "source": [
        "<img src=\"https://s3-api.us-geo.objectstorage.softlayer.net/cf-courses-data/CognitiveClass/PY0101EN/Chapter%202/Images/ListsRef.png\" width=\"1000\" align=\"center\">"
      ]
    },
    {
      "cell_type": "code",
      "metadata": {
        "id": "XXnKSlsJ76dJ"
      },
      "source": [
        "# Contoh lain\n",
        "\n",
        "print('B[0]:', B[0])\n",
        "A[0] = \"banana\"\n",
        "print('B[0]:', B[0])"
      ],
      "execution_count": null,
      "outputs": []
    },
    {
      "cell_type": "markdown",
      "metadata": {
        "id": "Y2KBzfQ367Qv"
      },
      "source": [
        "<img src = \"https://s3-api.us-geo.objectstorage.softlayer.net/cf-courses-data/CognitiveClass/PY0101EN/Chapter%202/Images/ListsRefGif.gif\" width=\"1000\" />"
      ]
    },
    {
      "cell_type": "markdown",
      "metadata": {
        "id": "HrGkmuut8m2D"
      },
      "source": [
        "Kita bisa melakukan clone list  <b>A</b> dengan sintaks berikut:"
      ]
    },
    {
      "cell_type": "code",
      "metadata": {
        "id": "-zD9zF6w8nJM"
      },
      "source": [
        "# Clone (clone by value) list A\n",
        "\n",
        "B = A[:]\n",
        "B"
      ],
      "execution_count": null,
      "outputs": []
    },
    {
      "cell_type": "markdown",
      "metadata": {
        "id": "Y1z_u7HN8m5Y"
      },
      "source": [
        "QUIZ# <h2 id=\"quiz\">LATIHAN</h2>"
      ]
    },
    {
      "cell_type": "markdown",
      "metadata": {
        "id": "Z7eg_SHt8m8t"
      },
      "source": [
        "Buat sebuah list <b><code>a_list</code></b>, yang isinya <b><code>1</code></b>,<b><code>hello</code></b>, <b><code>[1,2,3]</code></b> dan <b><code>True</code></b>. "
      ]
    },
    {
      "cell_type": "code",
      "metadata": {
        "id": "VcZWpCA-8nMm"
      },
      "source": [
        "# Silakan tulis koding di bawah dan tekan Shift+Enter untuk eksekusi"
      ],
      "execution_count": null,
      "outputs": []
    },
    {
      "cell_type": "markdown",
      "metadata": {
        "id": "vcIHpGAR9en3"
      },
      "source": [
        "Tampilkan isi index 1 dari <b><code>a_list</code></b>."
      ]
    },
    {
      "cell_type": "code",
      "metadata": {
        "id": "AL4af-vJ8nGa"
      },
      "source": [
        "# Silakan tulis koding di bawah dan tekan Shift+Enter untuk eksekusi"
      ],
      "execution_count": null,
      "outputs": []
    },
    {
      "cell_type": "markdown",
      "metadata": {
        "id": "wRIyRzm19eiV"
      },
      "source": [
        "Concatenate list tersebut dengan <code>A = [1, 'a']</code> and <code>B = [2, 1, 'd']</code>:"
      ]
    },
    {
      "cell_type": "code",
      "metadata": {
        "id": "1SQbGOOG9ckC"
      },
      "source": [
        "# Silakan tulis koding di bawah dan tekan Shift+Enter untuk eksekusi"
      ],
      "execution_count": null,
      "outputs": []
    },
    {
      "cell_type": "markdown",
      "metadata": {
        "id": "nR4M9AOjBfNQ"
      },
      "source": [
        "# <h1>Sets dalam Python</h1>"
      ]
    },
    {
      "cell_type": "markdown",
      "metadata": {
        "id": "kHuypsV-BfWG"
      },
      "source": [
        "# <h2 id=\"set\">Sets</h2>"
      ]
    },
    {
      "cell_type": "markdown",
      "metadata": {
        "id": "zd8lEdIHBfe9"
      },
      "source": [
        "Dalam Python ada kumpulan set. Nah tandanya pake kurung kurawal <b>{}</b>. Sets ini di dalamnya tidak boleh ada data yang sama atau double. Kalo ada maka secara otomatis akan dihapus oleh Python:"
      ]
    },
    {
      "cell_type": "code",
      "metadata": {
        "id": "slCygOnYBgPE",
        "colab": {
          "base_uri": "https://localhost:8080/",
          "height": 34
        },
        "outputId": "1de6b730-f3eb-4522-ca04-1ccaec40c656"
      },
      "source": [
        "# Buat set sederhana\n",
        "\n",
        "set1 = {\"pop\", \"rock\", \"soul\", \"hard rock\", \"rock\", \"R&B\", \"rock\", \"disco\"}\n",
        "set1"
      ],
      "execution_count": null,
      "outputs": [
        {
          "output_type": "execute_result",
          "data": {
            "text/plain": [
              "{'R&B', 'disco', 'hard rock', 'pop', 'rock', 'soul'}"
            ]
          },
          "metadata": {
            "tags": []
          },
          "execution_count": 42
        }
      ]
    },
    {
      "cell_type": "markdown",
      "metadata": {
        "id": "kS4EWMeiBfm7"
      },
      "source": [
        "<img src=\"https://s3-api.us-geo.objectstorage.softlayer.net/cf-courses-data/CognitiveClass/PY0101EN/Chapter%202/Images/SetsUnique.png\" width=\"1100\" />"
      ]
    },
    {
      "cell_type": "markdown",
      "metadata": {
        "id": "VcIqkLuPBf4m"
      },
      "source": [
        "## <h3 id=\"op\">Set Operations</h3> "
      ]
    },
    {
      "cell_type": "code",
      "metadata": {
        "id": "KmQ3ajJ8Bgnh",
        "colab": {
          "base_uri": "https://localhost:8080/",
          "height": 34
        },
        "outputId": "dd588591-cc1e-42a4-f8f5-c15620a67278"
      },
      "source": [
        "# Buat sebuah set\n",
        "\n",
        "A = set([\"Thriller\", \"Back in Black\", \"AC/DC\"])\n",
        "A"
      ],
      "execution_count": null,
      "outputs": [
        {
          "output_type": "execute_result",
          "data": {
            "text/plain": [
              "{'AC/DC', 'Back in Black', 'Thriller'}"
            ]
          },
          "metadata": {
            "tags": []
          },
          "execution_count": 44
        }
      ]
    },
    {
      "cell_type": "markdown",
      "metadata": {
        "id": "QqRSvYvAB-GO"
      },
      "source": [
        "Kita dapat menambah sebuah elemen ke dalam set menggunakan <b>add()</b>:"
      ]
    },
    {
      "cell_type": "code",
      "metadata": {
        "id": "206g-WuoBgvd",
        "colab": {
          "base_uri": "https://localhost:8080/",
          "height": 34
        },
        "outputId": "e20c8bc2-f383-40c5-89c5-a77542a1ae23"
      },
      "source": [
        "# Tambah elemen ke dalam set\n",
        "\n",
        "A.add(\"Didi Kempot\")\n",
        "A"
      ],
      "execution_count": null,
      "outputs": [
        {
          "output_type": "execute_result",
          "data": {
            "text/plain": [
              "{'AC/DC', 'Back in Black', 'Didi Kempot', 'Thriller'}"
            ]
          },
          "metadata": {
            "tags": []
          },
          "execution_count": 47
        }
      ]
    },
    {
      "cell_type": "markdown",
      "metadata": {
        "id": "-if580GCB-QF"
      },
      "source": [
        "Kita dapat menghapus sebuah elemen dari dalam set menggunakan <b>remove()</b>:"
      ]
    },
    {
      "cell_type": "code",
      "metadata": {
        "id": "hW0MGj_cBg4S",
        "colab": {
          "base_uri": "https://localhost:8080/",
          "height": 34
        },
        "outputId": "97e1c698-52e9-449b-962a-cce2cb74f377"
      },
      "source": [
        "# Hapus elemen dari set\n",
        "\n",
        "A.remove(\"Didi Kempot\")\n",
        "A"
      ],
      "execution_count": null,
      "outputs": [
        {
          "output_type": "execute_result",
          "data": {
            "text/plain": [
              "{'AC/DC', 'Back in Black', 'Thriller'}"
            ]
          },
          "metadata": {
            "tags": []
          },
          "execution_count": 48
        }
      ]
    },
    {
      "cell_type": "markdown",
      "metadata": {
        "id": "kdbYXtl0B-b7"
      },
      "source": [
        "Kita juga dapat melakukan cek apakah sebuah elemen ada dalam list:"
      ]
    },
    {
      "cell_type": "code",
      "metadata": {
        "id": "QAEmC2EaCSmO",
        "colab": {
          "base_uri": "https://localhost:8080/",
          "height": 34
        },
        "outputId": "3e5efd17-ebab-4d2e-8908-6c484b8aab13"
      },
      "source": [
        "# Cek elemen dalam set\n",
        "\n",
        "\"AC/DC\" in A"
      ],
      "execution_count": null,
      "outputs": [
        {
          "output_type": "execute_result",
          "data": {
            "text/plain": [
              "True"
            ]
          },
          "metadata": {
            "tags": []
          },
          "execution_count": 49
        }
      ]
    },
    {
      "cell_type": "markdown",
      "metadata": {
        "id": "UH2bmaK1CWL4"
      },
      "source": [
        "## <h3 id=\"logic\">Operasi Logika dalam Set</h3>"
      ]
    },
    {
      "cell_type": "markdown",
      "metadata": {
        "id": "VqKquIHBCWO7"
      },
      "source": [
        "Masih ingat materi dasar matika-matika? Masih ingat matika-matika diskrit? Nah mari kita lihat lebih jauh dalam Python!"
      ]
    },
    {
      "cell_type": "code",
      "metadata": {
        "id": "bYxyx-0JCW8d"
      },
      "source": [
        "# Contoh buat dua buah set\n",
        "\n",
        "album_set1 = set([\"Thriller\", 'AC/DC', 'Back in Black'])\n",
        "album_set2 = set([ \"AC/DC\", \"Back in Black\", \"The Dark Side of the Moon\"])"
      ],
      "execution_count": null,
      "outputs": []
    },
    {
      "cell_type": "markdown",
      "metadata": {
        "id": "4zhXuWD8CWRj"
      },
      "source": [
        "<img src=\"https://s3-api.us-geo.objectstorage.softlayer.net/cf-courses-data/CognitiveClass/PY0101EN/Chapter%202/Images/SetsSamples.png\" width=\"650\" />"
      ]
    },
    {
      "cell_type": "code",
      "metadata": {
        "id": "kAKzwM0lCW_h",
        "colab": {
          "base_uri": "https://localhost:8080/",
          "height": 51
        },
        "outputId": "e6ea20ec-6469-4296-db16-b9e78a075521"
      },
      "source": [
        "# Cetak kedua set yang dibuat\n",
        "\n",
        "album_set1, album_set2"
      ],
      "execution_count": null,
      "outputs": [
        {
          "output_type": "execute_result",
          "data": {
            "text/plain": [
              "({'AC/DC', 'Back in Black', 'Thriller'},\n",
              " {'AC/DC', 'Back in Black', 'The Dark Side of the Moon'})"
            ]
          },
          "metadata": {
            "tags": []
          },
          "execution_count": 51
        }
      ]
    },
    {
      "cell_type": "markdown",
      "metadata": {
        "id": "4YRsgoyQCWnB"
      },
      "source": [
        "Di kedua set sama-sama terdapat <b>AC/DC</b> dan <b>Back in Black</b> supaya mudah dipahami silakan lihat gambar berikut:"
      ]
    },
    {
      "cell_type": "markdown",
      "metadata": {
        "id": "3z_6c9JIC1tm"
      },
      "source": [
        "<img src = \"https://s3-api.us-geo.objectstorage.softlayer.net/cf-courses-data/CognitiveClass/PY0101EN/Chapter%202/Images/SetsLogic.png\" width = \"650\" />"
      ]
    },
    {
      "cell_type": "code",
      "metadata": {
        "id": "DgPQS72ECXCV",
        "colab": {
          "base_uri": "https://localhost:8080/",
          "height": 34
        },
        "outputId": "00cd1264-5142-45e2-ad05-66cffd077b6b"
      },
      "source": [
        "# Cari intersection-nya (isi yang sama di kedua set)\n",
        "\n",
        "intersection = album_set1 & album_set2\n",
        "intersection"
      ],
      "execution_count": null,
      "outputs": [
        {
          "output_type": "execute_result",
          "data": {
            "text/plain": [
              "{'AC/DC', 'Back in Black'}"
            ]
          },
          "metadata": {
            "tags": []
          },
          "execution_count": 52
        }
      ]
    },
    {
      "cell_type": "code",
      "metadata": {
        "id": "xi0H1Z1pCXEk",
        "colab": {
          "base_uri": "https://localhost:8080/",
          "height": 34
        },
        "outputId": "5179d9bd-070f-4725-edc0-9659b8ef3547"
      },
      "source": [
        "# Cari data yang ADA di set1 tapi TIDAK ADA di set2\n",
        "\n",
        "album_set1.difference(album_set2)  "
      ],
      "execution_count": null,
      "outputs": [
        {
          "output_type": "execute_result",
          "data": {
            "text/plain": [
              "{'Thriller'}"
            ]
          },
          "metadata": {
            "tags": []
          },
          "execution_count": 54
        }
      ]
    },
    {
      "cell_type": "markdown",
      "metadata": {
        "id": "JIIlkFS2CWUj"
      },
      "source": [
        "Perhatikan gambar berikut:"
      ]
    },
    {
      "cell_type": "markdown",
      "metadata": {
        "id": "dKujLbtbDAHh"
      },
      "source": [
        "<img src=\"https://s3-api.us-geo.objectstorage.softlayer.net/cf-courses-data/CognitiveClass/PY0101EN/Chapter%202/Images/SetsLeft.png\" width=\"650\" />"
      ]
    },
    {
      "cell_type": "markdown",
      "metadata": {
        "id": "xlu-mdFcIEWC"
      },
      "source": [
        "Perhatikan gambar berikut:"
      ]
    },
    {
      "cell_type": "markdown",
      "metadata": {
        "id": "dVXqHeNcDHiE"
      },
      "source": [
        "<img src = \"https://s3-api.us-geo.objectstorage.softlayer.net/cf-courses-data/CognitiveClass/PY0101EN/Chapter%202/Images/SetsRight.png\" width=\"650\" />"
      ]
    },
    {
      "cell_type": "markdown",
      "metadata": {
        "id": "luMbZ-xADEVv"
      },
      "source": [
        "Nah sekarang contoh mencari elemen yang HANYA ADA di <code>album_set2</code> dan TIDAK ADA di <code>album_set1</code>:"
      ]
    },
    {
      "cell_type": "code",
      "metadata": {
        "id": "t1MR7wQ3CXHR",
        "colab": {
          "base_uri": "https://localhost:8080/",
          "height": 34
        },
        "outputId": "4cd07fdf-47be-4551-ef2a-84b23609dbbc"
      },
      "source": [
        "album_set2.difference(album_set1)  "
      ],
      "execution_count": null,
      "outputs": [
        {
          "output_type": "execute_result",
          "data": {
            "text/plain": [
              "{'The Dark Side of the Moon'}"
            ]
          },
          "metadata": {
            "tags": []
          },
          "execution_count": 55
        }
      ]
    },
    {
      "cell_type": "code",
      "metadata": {
        "id": "-YvDeXT8DL92",
        "colab": {
          "base_uri": "https://localhost:8080/",
          "height": 34
        },
        "outputId": "5cfdc904-3903-4a7e-d489-f4daa9850fb7"
      },
      "source": [
        "# Gunakan method intersection untuk cek elemen yang ada baik di set album_list1 maupun di set album_list2\n",
        "\n",
        "album_set1.intersection(album_set2)   "
      ],
      "execution_count": null,
      "outputs": [
        {
          "output_type": "execute_result",
          "data": {
            "text/plain": [
              "{'AC/DC', 'Back in Black'}"
            ]
          },
          "metadata": {
            "tags": []
          },
          "execution_count": 56
        }
      ]
    },
    {
      "cell_type": "markdown",
      "metadata": {
        "id": "44TjQiKMDRPl"
      },
      "source": [
        "Gambarnya sebagai berikut:"
      ]
    },
    {
      "cell_type": "markdown",
      "metadata": {
        "id": "9ZuX1aNbDRai"
      },
      "source": [
        "<img src=\"https://s3-api.us-geo.objectstorage.softlayer.net/cf-courses-data/CognitiveClass/PY0101EN/Chapter%202/Images/SetsIntersect.png\" width=\"650\" />"
      ]
    },
    {
      "cell_type": "markdown",
      "metadata": {
        "id": "ctsAOUZ3DYOy"
      },
      "source": [
        "Perhatikan gambar berikut yang menunjukkan semua data/elemen yang ada baik di set 1 maupun set 2:"
      ]
    },
    {
      "cell_type": "markdown",
      "metadata": {
        "id": "0ATK3M1GDYV6"
      },
      "source": [
        "<img src = \"https://s3-api.us-geo.objectstorage.softlayer.net/cf-courses-data/CognitiveClass/PY0101EN/Chapter%202/Images/SetsUnion.png\" width=\"650\" />"
      ]
    },
    {
      "cell_type": "code",
      "metadata": {
        "id": "xSE_Rg_UCXJ7",
        "colab": {
          "base_uri": "https://localhost:8080/",
          "height": 34
        },
        "outputId": "c1bd6fb7-be89-4f6c-f5d0-87aa8b4eb7cf"
      },
      "source": [
        "# Cari union dari kedua set (data/elemen dalam semua set)\n",
        "\n",
        "album_set1.union(album_set2)"
      ],
      "execution_count": null,
      "outputs": [
        {
          "output_type": "execute_result",
          "data": {
            "text/plain": [
              "{'AC/DC', 'Back in Black', 'The Dark Side of the Moon', 'Thriller'}"
            ]
          },
          "metadata": {
            "tags": []
          },
          "execution_count": 57
        }
      ]
    },
    {
      "cell_type": "markdown",
      "metadata": {
        "id": "z8DF8LfXDYdw"
      },
      "source": [
        "Nah kita dapat melakukan cek apakah set tersebut adalah <b>superset</b> atau <b>subset</b> dari set yang lain, seperti berikut:"
      ]
    },
    {
      "cell_type": "code",
      "metadata": {
        "id": "tkRbhQT6DjJM",
        "colab": {
          "base_uri": "https://localhost:8080/",
          "height": 34
        },
        "outputId": "b107586e-8454-4752-be34-32eed232734b"
      },
      "source": [
        "# Cek superset\n",
        "\n",
        "set(album_set1).issuperset(album_set2)  "
      ],
      "execution_count": null,
      "outputs": [
        {
          "output_type": "execute_result",
          "data": {
            "text/plain": [
              "False"
            ]
          },
          "metadata": {
            "tags": []
          },
          "execution_count": 58
        }
      ]
    },
    {
      "cell_type": "code",
      "metadata": {
        "id": "bmd18uskDjL9",
        "colab": {
          "base_uri": "https://localhost:8080/",
          "height": 34
        },
        "outputId": "1ebe3072-e635-49e6-a49c-b72f0731cb56"
      },
      "source": [
        "# Cek subset\n",
        "\n",
        "set(album_set2).issubset(album_set1)    "
      ],
      "execution_count": null,
      "outputs": [
        {
          "output_type": "execute_result",
          "data": {
            "text/plain": [
              "False"
            ]
          },
          "metadata": {
            "tags": []
          },
          "execution_count": 59
        }
      ]
    },
    {
      "cell_type": "markdown",
      "metadata": {
        "id": "BfbGt04CLQS3"
      },
      "source": [
        "# <h1>Dictionary dalam Python</h1>"
      ]
    },
    {
      "cell_type": "markdown",
      "metadata": {
        "id": "BAPKcUe5Efjt"
      },
      "source": [
        "# <h2 id=\"Dic\">Dictionaries</h2>"
      ]
    },
    {
      "cell_type": "markdown",
      "metadata": {
        "id": "DGGxmNRZEf1-"
      },
      "source": [
        "Sebuah <b>dictionary</b> terdiri dari kunci <b>(keys)</b> dan isi nilainya <b>(values)</b>. Nah untuk memudahkan bayangkan lah dictionary seperti list. Nah kalo list punya <b>index</b>, kalo dictionary punya <b>keys</b>."
      ]
    },
    {
      "cell_type": "markdown",
      "metadata": {
        "id": "rzMBwX3lEgBl"
      },
      "source": [
        "<img src=\"https://s3-api.us-geo.objectstorage.softlayer.net/cf-courses-data/CognitiveClass/PY0101EN/Chapter%202/Images/DictsList.png\" width=\"650\" />"
      ]
    },
    {
      "cell_type": "code",
      "metadata": {
        "id": "dOLyetdHEgn5",
        "colab": {
          "base_uri": "https://localhost:8080/",
          "height": 119
        },
        "outputId": "804bd874-b6c2-4250-dd66-7f9070d36bd3"
      },
      "source": [
        "# Membuat sebuah dictionary\n",
        "\n",
        "Dict = {\"key1\": 1, \"key2\": \"2\", \"key3\": [3, 3, 3], \"key4\": (4, 4, 4), ('key5'): 5, (0, 1): 6}\n",
        "Dict"
      ],
      "execution_count": null,
      "outputs": [
        {
          "output_type": "execute_result",
          "data": {
            "text/plain": [
              "{(0, 1): 6,\n",
              " 'key1': 1,\n",
              " 'key2': '2',\n",
              " 'key3': [3, 3, 3],\n",
              " 'key4': (4, 4, 4),\n",
              " 'key5': 5}"
            ]
          },
          "metadata": {
            "tags": []
          },
          "execution_count": 1
        }
      ]
    },
    {
      "cell_type": "code",
      "metadata": {
        "id": "2pC2sU9PEgwI",
        "colab": {
          "base_uri": "https://localhost:8080/",
          "height": 34
        },
        "outputId": "2532a60e-38d9-42d5-8be2-aa13e1173005"
      },
      "source": [
        "# Ambil sebuah nilai dengan key-nya\n",
        "\n",
        "Dict[\"key1\"]"
      ],
      "execution_count": null,
      "outputs": [
        {
          "output_type": "execute_result",
          "data": {
            "text/plain": [
              "1"
            ]
          },
          "metadata": {
            "tags": []
          },
          "execution_count": 2
        }
      ]
    },
    {
      "cell_type": "code",
      "metadata": {
        "id": "s01GZlk_Eg6i",
        "colab": {
          "base_uri": "https://localhost:8080/",
          "height": 34
        },
        "outputId": "7a6ef5c0-d762-4284-c631-b350fdddeed3"
      },
      "source": [
        "# Contoh lain akses dengan key\n",
        "\n",
        "Dict[(0, 1)]"
      ],
      "execution_count": null,
      "outputs": [
        {
          "output_type": "execute_result",
          "data": {
            "text/plain": [
              "6"
            ]
          },
          "metadata": {
            "tags": []
          },
          "execution_count": 3
        }
      ]
    },
    {
      "cell_type": "code",
      "metadata": {
        "id": "GtaPJ9-aEhGT",
        "colab": {
          "base_uri": "https://localhost:8080/",
          "height": 34
        },
        "outputId": "17b318d9-9d13-45ce-9e7e-919a0f74e896"
      },
      "source": [
        "# Ambil semua isi dictionary\n",
        "\n",
        "Dict.values() "
      ],
      "execution_count": null,
      "outputs": [
        {
          "output_type": "execute_result",
          "data": {
            "text/plain": [
              "dict_values([1, '2', [3, 3, 3], (4, 4, 4), 5, 6])"
            ]
          },
          "metadata": {
            "tags": []
          },
          "execution_count": 4
        }
      ]
    },
    {
      "cell_type": "code",
      "metadata": {
        "id": "qaWrz7n_EhYE",
        "colab": {
          "base_uri": "https://localhost:8080/",
          "height": 34
        },
        "outputId": "9dbcad9d-b478-4e5f-bf6a-0ed45616acea"
      },
      "source": [
        "# Hapus beberapa isi dictionary dengan key-nya. Misalkan kita mau menghilangkan angka '5'\n",
        "\n",
        "del(Dict['key5'])\n",
        "Dict"
      ],
      "execution_count": null,
      "outputs": [
        {
          "output_type": "execute_result",
          "data": {
            "text/plain": [
              "{(0, 1): 6, 'key1': 1, 'key2': '2', 'key3': [3, 3, 3], 'key4': (4, 4, 4)}"
            ]
          },
          "metadata": {
            "tags": []
          },
          "execution_count": 7
        }
      ]
    },
    {
      "cell_type": "markdown",
      "metadata": {
        "id": "YaSfYijP0q9F"
      },
      "source": [
        "# <h2 id=\"quiz\">QUIZ-1</h2>"
      ]
    },
    {
      "cell_type": "markdown",
      "metadata": {
        "id": "4yL45Glz0vtY"
      },
      "source": [
        "Diberikan sebuah tuple:"
      ]
    },
    {
      "cell_type": "code",
      "metadata": {
        "id": "CYfQrFkJ0yme"
      },
      "source": [
        "# sample tuple\n",
        "\n",
        "genres_tuple = (\"pop\", \"rock\", \"soul\", \"hard rock\", \"soft rock\", \\\n",
        "                \"R&B\", \"progressive rock\", \"disco\") \n",
        "genres_tuple"
      ],
      "execution_count": null,
      "outputs": []
    },
    {
      "cell_type": "markdown",
      "metadata": {
        "id": "6kWAHLkU01Ii"
      },
      "source": [
        "Carilah panjang dari tuple tersebut!"
      ]
    },
    {
      "cell_type": "code",
      "metadata": {
        "id": "8GBclg9s1C_k"
      },
      "source": [
        "# Tulis koding di bawah kemudian eksekusi atau tekan Shift+Enter"
      ],
      "execution_count": null,
      "outputs": []
    },
    {
      "cell_type": "markdown",
      "metadata": {
        "id": "hfkqh2ut1eWn"
      },
      "source": [
        "Akses elemen dalam index 3:"
      ]
    },
    {
      "cell_type": "code",
      "metadata": {
        "id": "6VxCABIt1m3m"
      },
      "source": [
        "# Tulis koding di bawah kemudian eksekusi atau tekan Shift+Enter"
      ],
      "execution_count": null,
      "outputs": []
    },
    {
      "cell_type": "markdown",
      "metadata": {
        "id": "3VnD9gyj16AW"
      },
      "source": [
        "Gunakan slicing untuk mendapatkan index 3,4, dan 5!"
      ]
    },
    {
      "cell_type": "code",
      "metadata": {
        "id": "Z9vlaAkM2AkU"
      },
      "source": [
        "# Tulis koding di bawah kemudian eksekusi atau tekan Shift+Enter"
      ],
      "execution_count": null,
      "outputs": []
    },
    {
      "cell_type": "markdown",
      "metadata": {
        "id": "YIMoJIAc2OAs"
      },
      "source": [
        "Tampilkan dua elemen pertama dari tuple genre!"
      ]
    },
    {
      "cell_type": "code",
      "metadata": {
        "id": "DMbizkFb2Wuw"
      },
      "source": [
        "# Tulis koding di bawah kemudian eksekusi atau tekan Shift+Enter"
      ],
      "execution_count": null,
      "outputs": []
    },
    {
      "cell_type": "markdown",
      "metadata": {
        "id": "zpOvpnib2iGS"
      },
      "source": [
        "Tampilkan <b>\"disco\"</b>"
      ]
    },
    {
      "cell_type": "code",
      "metadata": {
        "id": "urOytwuY2m7d"
      },
      "source": [
        "# Tulis koding di bawah kemudian eksekusi atau tekan Shift+Enter"
      ],
      "execution_count": null,
      "outputs": []
    },
    {
      "cell_type": "markdown",
      "metadata": {
        "id": "EzhpivB92yQ6"
      },
      "source": [
        "Buat sorted list dari Tuple C_tuple=(-5, 1, -3):"
      ]
    },
    {
      "cell_type": "code",
      "metadata": {
        "id": "iWIf8SLc27Dr"
      },
      "source": [
        "# Tulis koding di bawah kemudian eksekusi atau tekan Shift+Enter"
      ],
      "execution_count": null,
      "outputs": []
    },
    {
      "cell_type": "markdown",
      "metadata": {
        "id": "oaTBeZfiDi8d"
      },
      "source": [
        "Konversi list berikut <b><code>['rap','house','electronic music', 'rap']</code></b> ke dalam sebuah set:"
      ]
    },
    {
      "cell_type": "code",
      "metadata": {
        "id": "XNEamLinDjPn"
      },
      "source": [
        "# Tuliskan kodingnya kemudian tekan Shift+Enter untuk eksekusi"
      ],
      "execution_count": null,
      "outputs": []
    },
    {
      "cell_type": "markdown",
      "metadata": {
        "id": "P43r4HOXD2Fo"
      },
      "source": [
        "Lakukan pengecekan misalkan set <b><code>A = [1, 2, 2, 1]</code></b> dan set <b><code>B = set([1, 2, 2, 1])</code></b>, apakah <b><code>sum(A) = sum(B)</code></b>"
      ]
    },
    {
      "cell_type": "code",
      "metadata": {
        "id": "PavbQR-0D2Ts"
      },
      "source": [
        "# Tuliskan kodingnya kemudian tekan Shift+Enter untuk eksekusi"
      ],
      "execution_count": null,
      "outputs": []
    },
    {
      "cell_type": "markdown",
      "metadata": {
        "id": "a9Nco5XVD3BY"
      },
      "source": [
        "Buatlah sebuah set <b><code>album_set3</code></b> yang merupakan union dari <b><code>album_set1</code></b> dan <b><code>album_set2</code></b>:"
      ]
    },
    {
      "cell_type": "code",
      "metadata": {
        "id": "e0he_BB4D3Jo"
      },
      "source": [
        "# Tuliskan kodingnya kemudian tekan Shift+Enter untuk eksekusi\n",
        "\n",
        "album_set1 = set([\"Thriller\", 'AC/DC', 'Back in Black'])\n",
        "album_set2 = set([ \"AC/DC\", \"Back in Black\", \"The Dark Side of the Moon\"])"
      ],
      "execution_count": null,
      "outputs": []
    },
    {
      "cell_type": "markdown",
      "metadata": {
        "id": "ekowbYj3D3c5"
      },
      "source": [
        "Cek, apakah <b>album_set1</b> adalah subset dari <b>album_set3</b>:"
      ]
    },
    {
      "cell_type": "code",
      "metadata": {
        "id": "nI2LrMV3D3kW"
      },
      "source": [
        "# Tuliskan kodingnya kemudian tekan Shift+Enter untuk eksekusi"
      ],
      "execution_count": null,
      "outputs": []
    },
    {
      "cell_type": "markdown",
      "metadata": {
        "id": "eEMsnz9jEga4"
      },
      "source": [
        "<b>Buat dictionary berikut untuk menjawab dua soal di bawahnya:</b>"
      ]
    },
    {
      "cell_type": "code",
      "metadata": {
        "id": "t7FlNyOQH3pb",
        "colab": {
          "base_uri": "https://localhost:8080/",
          "height": 34
        },
        "outputId": "e3a7d6ff-5021-4043-fa69-00c180b1bfd6"
      },
      "source": [
        "# Buat sebuah dictionary\n",
        "\n",
        "soundtrack_dic = {\"The Bodyguard\":\"1992\", \"Saturday Night Fever\":\"1977\"}\n",
        "soundtrack_dic "
      ],
      "execution_count": null,
      "outputs": [
        {
          "output_type": "execute_result",
          "data": {
            "text/plain": [
              "{'Saturday Night Fever': '1977', 'The Bodyguard': '1992'}"
            ]
          },
          "metadata": {
            "tags": []
          },
          "execution_count": 8
        }
      ]
    },
    {
      "cell_type": "markdown",
      "metadata": {
        "id": "kkz5VlHiH3bD"
      },
      "source": [
        "a) Dalam dictionary di atas, apa kuncinya <b>(key)</b> ?"
      ]
    },
    {
      "cell_type": "code",
      "metadata": {
        "id": "4fqNI9XiH38z"
      },
      "source": [
        "# Tuliskan kodingmu di bawah kemudian tekan Shift+Enter untuk eksekusi"
      ],
      "execution_count": null,
      "outputs": []
    },
    {
      "cell_type": "markdown",
      "metadata": {
        "id": "IG7fJYYZH4IC"
      },
      "source": [
        "b) Dalam dictionary <b><code>soundtrack_dict</code></b>, apa saja isinya <b>(value)</b>?"
      ]
    },
    {
      "cell_type": "code",
      "metadata": {
        "id": "kBEAN13FH4VT"
      },
      "source": [
        "# Tuliskan kodingmu di bawah kemudian tekan Shift+Enter untuk eksekusi"
      ],
      "execution_count": null,
      "outputs": []
    },
    {
      "cell_type": "markdown",
      "metadata": {
        "id": "Rcllh1CEI-7A"
      },
      "source": [
        "<b>DICTIONARY berikut untuk 4 soal di bawahnya:</b>\n",
        "<p>\n",
        "a) Buat dictionary yang berisi <b>Albums Back in Black, The Bodyguard </b>dan <b>Thriller</b> yang masing-masing mempunyai penjualan <b>50, 50 </b>dan <b>65 </b>juta keping."
      ]
    },
    {
      "cell_type": "code",
      "metadata": {
        "id": "nR9GdcQwI_W2"
      },
      "source": [
        "# Tuliskan kodingmu di bawah kemudian tekan Shift+Enter untuk eksekusi"
      ],
      "execution_count": null,
      "outputs": []
    },
    {
      "cell_type": "markdown",
      "metadata": {
        "id": "Z4hQxiIsJ5nl"
      },
      "source": [
        "b) Gunakan dictionary untuk mencari total penjualan dari <b>Thriller</b>:"
      ]
    },
    {
      "cell_type": "code",
      "metadata": {
        "id": "1Gp-LUG1JAi8"
      },
      "source": [
        "# Tuliskan kodingmu di bawah kemudian tekan Shift+Enter untuk eksekusi"
      ],
      "execution_count": null,
      "outputs": []
    },
    {
      "cell_type": "markdown",
      "metadata": {
        "id": "Z3gRd0g_KZgk"
      },
      "source": [
        "c) Cari nama album dengan menggunakan <b><code>keys</code></b>:"
      ]
    },
    {
      "cell_type": "code",
      "metadata": {
        "id": "cehhTUNXJA36"
      },
      "source": [
        "# Tuliskan kodingmu di bawah kemudian tekan Shift+Enter untuk eksekusi"
      ],
      "execution_count": null,
      "outputs": []
    },
    {
      "cell_type": "markdown",
      "metadata": {
        "id": "wLZbra7YKvv-"
      },
      "source": [
        "d) cari hasil penjualan masing-masing album menggunakan <b><code>values</code></b>:"
      ]
    },
    {
      "cell_type": "code",
      "metadata": {
        "id": "nSfNW-U7JBPg"
      },
      "source": [
        "# Tuliskan kodingmu di bawah kemudian tekan Shift+Enter untuk eksekusi"
      ],
      "execution_count": null,
      "outputs": []
    },
    {
      "cell_type": "markdown",
      "metadata": {
        "id": "UaZcreE4a4WE"
      },
      "source": [
        "# <h2 id=\"(c)\">(c)</h2>\n",
        "<p>Copyright &copy; 2019 <b>Evangs Mailoa</b>.</p>\n",
        "\n",
        "---\n",
        "\n",
        "\n",
        "<p>Digunakan khusus untuk ngajar Machine Learning di Progdi Teknik Informatika - FTI UKSW</p>"
      ]
    }
  ]
}