{
  "nbformat": 4,
  "nbformat_minor": 0,
  "metadata": {
    "colab": {
      "name": "3a. Association Rules (Apriory).ipynb",
      "provenance": [],
      "collapsed_sections": []
    },
    "kernelspec": {
      "name": "python3",
      "display_name": "Python 3"
    }
  },
  "cells": [
    {
      "cell_type": "markdown",
      "metadata": {
        "id": "8ZU-7PLjVyYr"
      },
      "source": [
        "<img src = \"https://evangsmailoa.files.wordpress.com/2019/09/ml.png\"  align = \"center\">"
      ]
    },
    {
      "cell_type": "markdown",
      "metadata": {
        "id": "XxbKZVgg6B-m"
      },
      "source": [
        "#Association Rules (Apriory) \n",
        "Untuk latihan ini, kita gunakan library <b>efficient-apriori</b>\n",
        "<p>Untuk itu kita harus menginstall library efficient-apriory"
      ]
    },
    {
      "cell_type": "code",
      "metadata": {
        "id": "OOyRiwUl6BIP",
        "outputId": "f2b602df-bc3d-449b-ddf9-04a99d0c2f6a",
        "colab": {
          "base_uri": "https://localhost:8080/",
          "height": 105
        }
      },
      "source": [
        "pip install efficient-apriori"
      ],
      "execution_count": null,
      "outputs": [
        {
          "output_type": "stream",
          "text": [
            "Collecting efficient-apriori\n",
            "  Downloading https://files.pythonhosted.org/packages/5b/cb/cd06eb983e4a67d9b127df6e3ece87dd7ebea145daa4250929531315bbff/efficient_apriori-1.0.0-py3-none-any.whl\n",
            "Installing collected packages: efficient-apriori\n",
            "Successfully installed efficient-apriori-1.0.0\n"
          ],
          "name": "stdout"
        }
      ]
    },
    {
      "cell_type": "markdown",
      "metadata": {
        "id": "QplQUXGE7UJj"
      },
      "source": [
        "Contoh penerapan apriory. "
      ]
    },
    {
      "cell_type": "code",
      "metadata": {
        "id": "mlj42nEb61rV",
        "outputId": "147fb5e3-f49c-4a4f-f8a2-d0c84a267f76",
        "colab": {
          "base_uri": "https://localhost:8080/",
          "height": 51
        }
      },
      "source": [
        "from efficient_apriori import apriori\n",
        "transactions = [('telur', 'daging', 'sup'),\n",
        "                ('telur', 'daging', 'apel'),\n",
        "                ('sup', 'daging', 'pisang'),\n",
        "                ('telur','apel','sup') ]\n",
        "itemsets, rules = apriori(transactions, min_support=0.5,  min_confidence=0.5)\n",
        "print(rules)  \n",
        "print(itemsets)"
      ],
      "execution_count": null,
      "outputs": [
        {
          "output_type": "stream",
          "text": [
            "[{telur} -> {apel}, {apel} -> {telur}, {sup} -> {daging}, {daging} -> {sup}, {telur} -> {daging}, {daging} -> {telur}, {telur} -> {sup}, {sup} -> {telur}]\n",
            "{1: {('apel',): 2, ('daging',): 3, ('sup',): 3, ('telur',): 3}, 2: {('apel', 'telur'): 2, ('daging', 'sup'): 2, ('daging', 'telur'): 2, ('sup', 'telur'): 2}}\n"
          ],
          "name": "stdout"
        }
      ]
    },
    {
      "cell_type": "code",
      "metadata": {
        "id": "Dc74hJRX_R47",
        "outputId": "07c6ab75-426f-444d-d046-6fe990eb91c3",
        "colab": {
          "base_uri": "https://localhost:8080/",
          "height": 51
        }
      },
      "source": [
        "transactions2 = [('A','C'),\n",
        "                 ('A','B','C'),\n",
        "                 ('B','C'),\n",
        "                 ('D'),\n",
        "                 ('D','E')]\n",
        "itemsets, rules = apriori(transactions2, min_support=0.3,  min_confidence=0.5)\n",
        "print(rules)  \n",
        "print(itemsets)"
      ],
      "execution_count": null,
      "outputs": [
        {
          "output_type": "stream",
          "text": [
            "[{C} -> {A}, {A} -> {C}, {C} -> {B}, {B} -> {C}]\n",
            "{1: {('A',): 2, ('B',): 2, ('C',): 3, ('D',): 2}, 2: {('A', 'C'): 2, ('B', 'C'): 2}}\n"
          ],
          "name": "stdout"
        }
      ]
    }
  ]
}