{
  "nbformat": 4,
  "nbformat_minor": 0,
  "metadata": {
    "colab": {
      "name": "2. Dasar Pemrograman dengan Python.ipynb",
      "provenance": [],
      "collapsed_sections": [
        "fZwnCCONa4RV",
        "dtPRm_R9a4Rk",
        "jmKxbLUva4Rp",
        "z_Nngb8ca4Rv",
        "D1yQphbqa4R9",
        "0R-eE89Ya4SE",
        "mf1rEQ5Sa4SO",
        "Lv8fg7uZa4Us",
        "qPiJSdDyH4mp",
        "b9q1xPgeXG4n",
        "6F8Gme0sXP3-",
        "Zb0x0j7xYJjy"
      ]
    },
    "language_info": {
      "codemirror_mode": {
        "name": "ipython",
        "version": 3
      },
      "file_extension": ".py",
      "mimetype": "text/x-python",
      "name": "python",
      "nbconvert_exporter": "python",
      "pygments_lexer": "ipython3",
      "version": "3.6.6"
    },
    "kernelspec": {
      "display_name": "Python 3",
      "language": "python",
      "name": "python3"
    }
  },
  "cells": [
    {
      "cell_type": "markdown",
      "metadata": {
        "id": "qVfou9aca4RU"
      },
      "source": [
        "<img src = \"https://evangsmailoa.files.wordpress.com/2019/09/ml.png\"  align = \"center\">"
      ]
    },
    {
      "cell_type": "markdown",
      "metadata": {
        "id": "fZwnCCONa4RV"
      },
      "source": [
        "#<h1>Selamat datang di materi belajar Python!</h1>"
      ]
    },
    {
      "cell_type": "markdown",
      "metadata": {
        "id": "KkWeDYrGa4RW"
      },
      "source": [
        "Pada materi ini kita belajar tentang dasar-dasar main pemrograman dengan bahasa Python!\n",
        "<p>Selamat belajar!</p> "
      ]
    },
    {
      "cell_type": "markdown",
      "metadata": {
        "id": "cDv65PD8a4Ra"
      },
      "source": [
        "# <h2 id=\"cond\">Condition Statements</h2>"
      ]
    },
    {
      "cell_type": "markdown",
      "metadata": {
        "id": "rmgZ9cwla4Rb"
      },
      "source": [
        "## <h3 id=\"comp\">Operator Perbandingan</h3>"
      ]
    },
    {
      "cell_type": "markdown",
      "metadata": {
        "id": "LM6-SSIMa4Rc"
      },
      "source": [
        "Untuk membandingkan dua buah nilai, kita dapat menggunakan operator-operator:\n",
        "\n",
        "<ul>\n",
        "    <li>sama dengan: <b>==</b></li>\n",
        "    <li>tidak sama dengan: <b>!=</b></li>\n",
        "    <li>lebih besar dari: <b>></b></li>\n",
        "    <li>lebih kecil dari: <b>&lt;</b></li>\n",
        "    <li>lebih besar atau sama dengan: <b>>=</b></li>\n",
        "    <li>lebih besar atau sama dengan: <b>&lt;=</b></li>\n",
        "</ul>"
      ]
    },
    {
      "cell_type": "code",
      "metadata": {
        "id": "SdaDe0qYa4Rd",
        "colab": {
          "base_uri": "https://localhost:8080/",
          "height": 34
        },
        "outputId": "f6761936-2ad4-4ac8-8255-d35498ddd7b9"
      },
      "source": [
        "# Cek apakah 5 sama dengan 6\n",
        "\n",
        "a = 5\n",
        "a == 6"
      ],
      "execution_count": null,
      "outputs": [
        {
          "output_type": "execute_result",
          "data": {
            "text/plain": [
              "False"
            ]
          },
          "metadata": {
            "tags": []
          },
          "execution_count": 1
        }
      ]
    },
    {
      "cell_type": "code",
      "metadata": {
        "id": "-VBq_ZIOKjiX",
        "colab": {
          "base_uri": "https://localhost:8080/",
          "height": 34
        },
        "outputId": "30218ca4-eef9-42de-9fdc-d277c705a83a"
      },
      "source": [
        "# Cek apakah nilai 6 lebih besar dari 5\n",
        "\n",
        "i = 6\n",
        "i > 5"
      ],
      "execution_count": null,
      "outputs": [
        {
          "output_type": "execute_result",
          "data": {
            "text/plain": [
              "True"
            ]
          },
          "metadata": {
            "tags": []
          },
          "execution_count": 2
        }
      ]
    },
    {
      "cell_type": "code",
      "metadata": {
        "id": "7158b3HuNuv4",
        "colab": {
          "base_uri": "https://localhost:8080/",
          "height": 34
        },
        "outputId": "4def326e-c62b-49b0-82ae-1627c75f2839"
      },
      "source": [
        "# Tanda tidak sama dengan\n",
        "\n",
        "i = 2\n",
        "i != 6"
      ],
      "execution_count": null,
      "outputs": [
        {
          "output_type": "execute_result",
          "data": {
            "text/plain": [
              "True"
            ]
          },
          "metadata": {
            "tags": []
          },
          "execution_count": 3
        }
      ]
    },
    {
      "cell_type": "code",
      "metadata": {
        "id": "32bW6-a2NvCK",
        "colab": {
          "base_uri": "https://localhost:8080/",
          "height": 34
        },
        "outputId": "bb35d868-b024-4c20-fd89-e04ab30b237f"
      },
      "source": [
        "# Tanda tidak sama dengan\n",
        "\n",
        "i = 6\n",
        "i != 6"
      ],
      "execution_count": null,
      "outputs": [
        {
          "output_type": "execute_result",
          "data": {
            "text/plain": [
              "False"
            ]
          },
          "metadata": {
            "tags": []
          },
          "execution_count": 4
        }
      ]
    },
    {
      "cell_type": "code",
      "metadata": {
        "id": "RhFj4mBkN-9h",
        "colab": {
          "base_uri": "https://localhost:8080/",
          "height": 34
        },
        "outputId": "8a224633-2c8d-4e5d-8c91-12a7e243bff5"
      },
      "source": [
        "# Cek isi string\n",
        "\n",
        "\"Evangs Mailoa\" == \"Michael Jackson\""
      ],
      "execution_count": null,
      "outputs": [
        {
          "output_type": "execute_result",
          "data": {
            "text/plain": [
              "False"
            ]
          },
          "metadata": {
            "tags": []
          },
          "execution_count": 5
        }
      ]
    },
    {
      "cell_type": "code",
      "metadata": {
        "id": "-_25Q2hoN_Gi",
        "colab": {
          "base_uri": "https://localhost:8080/",
          "height": 34
        },
        "outputId": "f8e639fd-e084-49c0-fec3-c762b4217b06"
      },
      "source": [
        "# Cek isi string\n",
        "\n",
        "\"Evangs Mailoa\" != \"Michael Jackson\""
      ],
      "execution_count": null,
      "outputs": [
        {
          "output_type": "execute_result",
          "data": {
            "text/plain": [
              "True"
            ]
          },
          "metadata": {
            "tags": []
          },
          "execution_count": 6
        }
      ]
    },
    {
      "cell_type": "markdown",
      "metadata": {
        "id": "dtPRm_R9a4Rk"
      },
      "source": [
        "## <h3 id=\"version\">Percabangan IF-ELSE-ELIF</h3>"
      ]
    },
    {
      "cell_type": "markdown",
      "metadata": {
        "id": "xGHWVMmVa4Rl"
      },
      "source": [
        "Kita dapat juga melakukan percabangan dengan Python:\n",
        "</p>"
      ]
    },
    {
      "cell_type": "code",
      "metadata": {
        "id": "wTbqkPEja4Rl",
        "colab": {
          "base_uri": "https://localhost:8080/",
          "height": 34
        },
        "outputId": "f559b864-84a0-46b9-bc40-d4ed31d40045"
      },
      "source": [
        "# Contoh penggunaan IF\n",
        "\n",
        "#age = 19\n",
        "age = 18\n",
        "\n",
        "#Pengecekan TRUE atau FALSE\n",
        "if age > 18:\n",
        "    \n",
        "    print(\"Cukup umur....\" )\n",
        "\n",
        "#Pernyataan setelah IF akan dieksekusi berdasarkan nilai TRUE atau FALSE \n",
        "print(\"Silakan coy!\")"
      ],
      "execution_count": null,
      "outputs": [
        {
          "output_type": "stream",
          "text": [
            "Silakan coy!\n"
          ],
          "name": "stdout"
        }
      ]
    },
    {
      "cell_type": "code",
      "metadata": {
        "id": "w-T4nSONO2BP",
        "colab": {
          "base_uri": "https://localhost:8080/",
          "height": 51
        },
        "outputId": "45410092-6f55-47fe-a5db-01e885603cc9"
      },
      "source": [
        "# Contoh penggunaan ELSE\n",
        "\n",
        "age = 18\n",
        "# age = 19\n",
        "\n",
        "if age > 18:\n",
        "    print(\"Cukup umur\" )\n",
        "else:\n",
        "    print(\"Belum cukup umur\" )\n",
        "    \n",
        "print(\"Gak boleh pacaran dulu coy!\")"
      ],
      "execution_count": null,
      "outputs": [
        {
          "output_type": "stream",
          "text": [
            "Belum cukup umur\n",
            "Gak boleh pacaran dulu coy!\n"
          ],
          "name": "stdout"
        }
      ]
    },
    {
      "cell_type": "code",
      "metadata": {
        "id": "AyBxTBKZPGfE",
        "colab": {
          "base_uri": "https://localhost:8080/",
          "height": 51
        },
        "outputId": "e603ac09-e57d-4c1b-cead-c26d2886177f"
      },
      "source": [
        "# Contoh penggunaan ELIF\n",
        "\n",
        "age = 18\n",
        "\n",
        "if age > 18:\n",
        "    print(\"Cukup umur\" )\n",
        "elif age == 18:\n",
        "    print(\"Pas umur\")\n",
        "else:\n",
        "    print(\"Belum cukup umur\" )\n",
        "    \n",
        "print(\"Silakan coy!\")"
      ],
      "execution_count": null,
      "outputs": [
        {
          "output_type": "stream",
          "text": [
            "Pas umur\n",
            "Silakan coy!\n"
          ],
          "name": "stdout"
        }
      ]
    },
    {
      "cell_type": "markdown",
      "metadata": {
        "id": "jmKxbLUva4Rp"
      },
      "source": [
        "## <h3 id=\"comments\">Operator Logika</h3>"
      ]
    },
    {
      "cell_type": "markdown",
      "metadata": {
        "id": "-Hhtc76Ha4Rq"
      },
      "source": [
        "Operator Logika dapat dikombinasikan atau dimodifikasi:\n",
        "<ul>\n",
        "    <li><code>and</code></li>\n",
        "    <li><code>or</code></li>\n",
        "    <li><code>not</code></li>\n",
        "</ul>\n",
        "\n",
        "Operator ini digunakan untuk cek dua nilai menggunakan tabel kebenaran:  "
      ]
    },
    {
      "cell_type": "markdown",
      "metadata": {
        "id": "wqYVaViGP8Lp"
      },
      "source": [
        "<img src=\"https://s3-api.us-geo.objectstorage.softlayer.net/cf-courses-data/CognitiveClass/PY0101EN/Chapter%203/Images/CondsTable.png\" width=\"650\" />[link text](https://)"
      ]
    },
    {
      "cell_type": "code",
      "metadata": {
        "id": "Z0_yzsy2a4Rr",
        "colab": {
          "base_uri": "https://localhost:8080/",
          "height": 68
        },
        "outputId": "aaa2c105-afb5-42b8-fe67-643053c2f09e"
      },
      "source": [
        "# Contoh kondisi\n",
        "\n",
        "album_year = 1980\n",
        "\n",
        "if(album_year > 1979) and (album_year < 1990):\n",
        "    print (\"Album ini keluar antara tahun 1980 dan 1989\")\n",
        "    \n",
        "print(\"\")\n",
        "print(\"Anda Betul!\")"
      ],
      "execution_count": null,
      "outputs": [
        {
          "output_type": "stream",
          "text": [
            "Album ini keluar antara tahun 1980 dan 1989\n",
            "\n",
            "Anda Betul!\n"
          ],
          "name": "stdout"
        }
      ]
    },
    {
      "cell_type": "code",
      "metadata": {
        "id": "qTWKPTemQT1M",
        "colab": {
          "base_uri": "https://localhost:8080/",
          "height": 34
        },
        "outputId": "a7be2860-fbab-4eac-87a4-923c3dd890bc"
      },
      "source": [
        "# Contoh kondisi\n",
        "\n",
        "album_year = 1982\n",
        "\n",
        "if(album_year < 1980) or (album_year > 1989):\n",
        "    print (\"Album bukan tahun 1980an\")\n",
        "else:\n",
        "    print(\"Album dirilis tahun 1980an \")"
      ],
      "execution_count": null,
      "outputs": [
        {
          "output_type": "stream",
          "text": [
            "Album dirilis tahun 1980an \n"
          ],
          "name": "stdout"
        }
      ]
    },
    {
      "cell_type": "markdown",
      "metadata": {
        "id": "z_Nngb8ca4Rv"
      },
      "source": [
        "# <h2 id=\"cond\">Perulangan (Loops)</h2>"
      ]
    },
    {
      "cell_type": "markdown",
      "metadata": {
        "id": "1Z0_5_JWa4Rw"
      },
      "source": [
        "Dalam Python kita butuh <b><code>range</code></b> \n",
        "<p>Silakan dicoba!</p>"
      ]
    },
    {
      "cell_type": "code",
      "metadata": {
        "id": "F-af-nK6a4Rx",
        "colab": {
          "base_uri": "https://localhost:8080/",
          "height": 34
        },
        "outputId": "e12e0f03-bb9f-448b-a57b-44337eebbfaf"
      },
      "source": [
        "# Coba range\n",
        "\n",
        "range(3)"
      ],
      "execution_count": null,
      "outputs": [
        {
          "output_type": "execute_result",
          "data": {
            "text/plain": [
              "range(0, 3)"
            ]
          },
          "metadata": {
            "tags": []
          },
          "execution_count": 20
        }
      ]
    },
    {
      "cell_type": "code",
      "metadata": {
        "id": "ulaz0yHaa4R4",
        "colab": {
          "base_uri": "https://localhost:8080/",
          "height": 153
        },
        "outputId": "6d4ca75d-5884-479a-b19e-994220900533"
      },
      "source": [
        "# Contoh perulangan sederhana\n",
        "\n",
        "for i in range(0, 8):\n",
        "    print(i)"
      ],
      "execution_count": null,
      "outputs": [
        {
          "output_type": "stream",
          "text": [
            "0\n",
            "1\n",
            "2\n",
            "3\n",
            "4\n",
            "5\n",
            "6\n",
            "7\n"
          ],
          "name": "stdout"
        }
      ]
    },
    {
      "cell_type": "code",
      "metadata": {
        "id": "2NbnykJ7Rejl",
        "colab": {
          "base_uri": "https://localhost:8080/",
          "height": 187
        },
        "outputId": "a3b86172-5c60-4dd6-8128-5f3a8929445c"
      },
      "source": [
        "# Contoh penggunaan loop untuk mengganti element dalam list\n",
        "\n",
        "squares = ['red', 'yellow', 'green', 'purple', 'blue']\n",
        "\n",
        "for i in range(0, 5):\n",
        "    print(\"Before square \", i, 'is',  squares[i])\n",
        "    squares[i] = 'weight'\n",
        "    print(\"After square \", i, 'is',  squares[i])"
      ],
      "execution_count": null,
      "outputs": [
        {
          "output_type": "stream",
          "text": [
            "Before square  0 is red\n",
            "After square  0 is weight\n",
            "Before square  1 is yellow\n",
            "After square  1 is weight\n",
            "Before square  2 is green\n",
            "After square  2 is weight\n",
            "Before square  3 is purple\n",
            "After square  3 is weight\n",
            "Before square  4 is blue\n",
            "After square  4 is weight\n"
          ],
          "name": "stdout"
        }
      ]
    },
    {
      "cell_type": "code",
      "metadata": {
        "id": "iFhEtj5XRmUo",
        "colab": {
          "base_uri": "https://localhost:8080/",
          "height": 102
        },
        "outputId": "dacd9843-e0c5-4a1d-cdbc-f924a4d667a8"
      },
      "source": [
        "# Perulangan list kemudian menambah satu sesuai warna yang disediakan\n",
        "\n",
        "squares=['red', 'yellow', 'green', 'purple', 'blue']\n",
        "\n",
        "for i, square in enumerate(squares):\n",
        "    print(i, square)"
      ],
      "execution_count": null,
      "outputs": [
        {
          "output_type": "stream",
          "text": [
            "0 red\n",
            "1 yellow\n",
            "2 green\n",
            "3 purple\n",
            "4 blue\n"
          ],
          "name": "stdout"
        }
      ]
    },
    {
      "cell_type": "markdown",
      "metadata": {
        "id": "D1yQphbqa4R9"
      },
      "source": [
        "## <h3 id=\"python_error\">Python bisa tahu kode kita error atau gak sebelum dieksekusi?</h3>"
      ]
    },
    {
      "cell_type": "markdown",
      "metadata": {
        "id": "da3LqFbba4R_"
      },
      "source": [
        "Python itu kan <em>interpreted language</em> berbeda dengan <em> compiled languages</em>. Python akan hentikan eksekusi seluruh program kalo dia menemukan ada yang error."
      ]
    },
    {
      "cell_type": "code",
      "metadata": {
        "id": "4tWyLVrWa4SB",
        "colab": {
          "base_uri": "https://localhost:8080/",
          "height": 231
        },
        "outputId": "d99e97ff-12be-40c9-9aee-4cfda79181c1"
      },
      "source": [
        "# Coba jalankan code berikut:\n",
        "\n",
        "print(\"This will be printed\")\n",
        "frint(\"This will cause an error\")\n",
        "print(\"This will NOT be printed\")"
      ],
      "execution_count": null,
      "outputs": [
        {
          "output_type": "stream",
          "text": [
            "This will be printed\n"
          ],
          "name": "stdout"
        },
        {
          "output_type": "error",
          "ename": "NameError",
          "evalue": "ignored",
          "traceback": [
            "\u001b[0;31m---------------------------------------------------------------------------\u001b[0m",
            "\u001b[0;31mNameError\u001b[0m                                 Traceback (most recent call last)",
            "\u001b[0;32m<ipython-input-7-88db29c8328a>\u001b[0m in \u001b[0;36m<module>\u001b[0;34m()\u001b[0m\n\u001b[1;32m      1\u001b[0m \u001b[0;34m\u001b[0m\u001b[0m\n\u001b[1;32m      2\u001b[0m \u001b[0mprint\u001b[0m\u001b[0;34m(\u001b[0m\u001b[0;34m\"This will be printed\"\u001b[0m\u001b[0;34m)\u001b[0m\u001b[0;34m\u001b[0m\u001b[0;34m\u001b[0m\u001b[0m\n\u001b[0;32m----> 3\u001b[0;31m \u001b[0mfrint\u001b[0m\u001b[0;34m(\u001b[0m\u001b[0;34m\"This will cause an error\"\u001b[0m\u001b[0;34m)\u001b[0m\u001b[0;34m\u001b[0m\u001b[0;34m\u001b[0m\u001b[0m\n\u001b[0m\u001b[1;32m      4\u001b[0m \u001b[0mprint\u001b[0m\u001b[0;34m(\u001b[0m\u001b[0;34m\"This will NOT be printed\"\u001b[0m\u001b[0;34m)\u001b[0m\u001b[0;34m\u001b[0m\u001b[0;34m\u001b[0m\u001b[0m\n",
            "\u001b[0;31mNameError\u001b[0m: name 'frint' is not defined"
          ]
        }
      ]
    },
    {
      "cell_type": "markdown",
      "metadata": {
        "id": "0R-eE89Ya4SE"
      },
      "source": [
        "## <h3 id=\"exercise\">LATIHAN: Tulislah program pertamamu bosku!</h3>"
      ]
    },
    {
      "cell_type": "code",
      "metadata": {
        "id": "0WOzLzqWa4SF"
      },
      "source": [
        "# Tulis kodingmu yang isinya Hallo diikuti namamu! Kemudian tekan Shift+Enter untuk eksekusi.\n",
        "\n"
      ],
      "execution_count": null,
      "outputs": []
    },
    {
      "cell_type": "markdown",
      "metadata": {
        "id": "G2kqWYsRa4SI"
      },
      "source": [
        "Klik dua kali __disini__ untuk lihat bocoran jawaban.\n",
        "\n",
        "<!-- Jawaban:\n",
        "\n",
        "print(\"Hello Evangs Cakep!\")\n",
        "\n",
        "-->"
      ]
    },
    {
      "cell_type": "markdown",
      "metadata": {
        "id": "mf1rEQ5Sa4SO"
      },
      "source": [
        "## <h3 id=\"types_objects\">While Loops</h3>"
      ]
    },
    {
      "cell_type": "code",
      "metadata": {
        "id": "4zdRzLU7a4SS",
        "colab": {
          "base_uri": "https://localhost:8080/",
          "height": 85
        },
        "outputId": "85a7ba4e-b6b6-475d-9c19-92c2782b6f57"
      },
      "source": [
        "# Contoh penggunaan While Loop\n",
        "\n",
        "dates = [1982, 1980, 1973, 2000]\n",
        "\n",
        "i = 0\n",
        "year = 0\n",
        "\n",
        "while(year != 1973):\n",
        "    year = dates[i]\n",
        "    i = i + 1\n",
        "    print(year)\n",
        "\n",
        "print(\"Terjadi\", i ,\"X perulangan untuk keluar dari perulangan.\")"
      ],
      "execution_count": null,
      "outputs": [
        {
          "output_type": "stream",
          "text": [
            "1982\n",
            "1980\n",
            "1973\n",
            "Terjadi 3 X perulangan untuk keluar dari perulangan.\n"
          ],
          "name": "stdout"
        }
      ]
    },
    {
      "cell_type": "markdown",
      "metadata": {
        "id": "Lv8fg7uZa4Us"
      },
      "source": [
        "# <h2 id=\"cond\">Function</h2>"
      ]
    },
    {
      "cell_type": "markdown",
      "metadata": {
        "id": "lfqJwFrMVjFd"
      },
      "source": [
        "Ada dua tipe fungsi:\n",
        "\n",
        "- <b>User defined functions</b>\n",
        "- <b>Pre-defined functions</b>"
      ]
    },
    {
      "cell_type": "markdown",
      "metadata": {
        "id": "gy9f3vbWa4Ut"
      },
      "source": [
        "<h3 id=\"exp\">Fungsi</h3>"
      ]
    },
    {
      "cell_type": "code",
      "metadata": {
        "id": "XW8BxuAha4Uv"
      },
      "source": [
        "# Contoh fungsi ADD: menambahkan 1 ke a dan menyimpannya sebagai b\n",
        "\n",
        "def add(a):\n",
        "    b = a + 1\n",
        "    print(a, \"kalau mas bro tambahkan satu jadinya\", b)\n",
        "    return(b)"
      ],
      "execution_count": null,
      "outputs": []
    },
    {
      "cell_type": "code",
      "metadata": {
        "id": "G1B5BDima4Uz",
        "colab": {
          "base_uri": "https://localhost:8080/",
          "height": 51
        },
        "outputId": "e3099e6c-ef2b-447b-dfe5-8e3252891f12"
      },
      "source": [
        "# Panggil fungsi add()\n",
        "\n",
        "add(1)"
      ],
      "execution_count": null,
      "outputs": [
        {
          "output_type": "stream",
          "text": [
            "1 kalau mas bro tambahkan satu jadinya 2\n"
          ],
          "name": "stdout"
        },
        {
          "output_type": "execute_result",
          "data": {
            "text/plain": [
              "2"
            ]
          },
          "metadata": {
            "tags": []
          },
          "execution_count": 34
        }
      ]
    },
    {
      "cell_type": "code",
      "metadata": {
        "id": "4ejlFGL1a4U8"
      },
      "source": [
        "# Buat sebuah fungsi baru untuk mengalikan 2 buah angka\n",
        "\n",
        "def Mult(a, b):\n",
        "    c = a * b\n",
        "    return(c)"
      ],
      "execution_count": null,
      "outputs": []
    },
    {
      "cell_type": "code",
      "metadata": {
        "id": "SAoJClw9a4U_",
        "colab": {
          "base_uri": "https://localhost:8080/",
          "height": 34
        },
        "outputId": "30394566-ea88-41fd-fe17-a765850ddd63"
      },
      "source": [
        "# Panggil fungsi mult() untuk menghitung perkalian 2 angka\n",
        "\n",
        "Mult(2, 3)"
      ],
      "execution_count": null,
      "outputs": [
        {
          "output_type": "execute_result",
          "data": {
            "text/plain": [
              "6"
            ]
          },
          "metadata": {
            "tags": []
          },
          "execution_count": 37
        }
      ]
    },
    {
      "cell_type": "code",
      "metadata": {
        "id": "UIsdvBfma4VH",
        "colab": {
          "base_uri": "https://localhost:8080/",
          "height": 34
        },
        "outputId": "5566f79b-ae47-48ad-f0eb-0acb28214aa3"
      },
      "source": [
        "# Panggil fungsi mult() untuk menghitung perkalian 2 angka pecahan\n",
        "\n",
        "Mult(10.0, 3.14)"
      ],
      "execution_count": null,
      "outputs": [
        {
          "output_type": "execute_result",
          "data": {
            "text/plain": [
              "31.400000000000002"
            ]
          },
          "metadata": {
            "tags": []
          },
          "execution_count": 38
        }
      ]
    },
    {
      "cell_type": "markdown",
      "metadata": {
        "id": "pmC6ETI_UeSh"
      },
      "source": [
        "## <h3 id=\"var\">Variabel</h3>"
      ]
    },
    {
      "cell_type": "code",
      "metadata": {
        "id": "Sg-12wv_UgPA"
      },
      "source": [
        "# Definisikan sebuah fungsi\n",
        "\n",
        "def square(a):\n",
        "    \n",
        "    # Local variable b\n",
        "    b = 1\n",
        "    c = a * a + b\n",
        "    print(a, \"jika kamu kalikan dengan diri sendiri dan + 1 jadinya\", c) \n",
        "    return(c)"
      ],
      "execution_count": null,
      "outputs": []
    },
    {
      "cell_type": "code",
      "metadata": {
        "id": "rH1-3r-qUp1U",
        "colab": {
          "base_uri": "https://localhost:8080/",
          "height": 51
        },
        "outputId": "7f3ad544-f80c-453d-ae60-a83ecbb47c92"
      },
      "source": [
        "# Inisialisasi variabel global  \n",
        "\n",
        "x = 3\n",
        "# Buat fungsi untuk manggil dan mengembalikan nilai\n",
        "y = square(x)\n",
        "y"
      ],
      "execution_count": null,
      "outputs": [
        {
          "output_type": "stream",
          "text": [
            "3 jika kamu kalikan dengan diri sendiri dan + 1 jadinya 10\n"
          ],
          "name": "stdout"
        },
        {
          "output_type": "execute_result",
          "data": {
            "text/plain": [
              "10"
            ]
          },
          "metadata": {
            "tags": []
          },
          "execution_count": 45
        }
      ]
    },
    {
      "cell_type": "code",
      "metadata": {
        "id": "n9VPzjS7Up-p",
        "colab": {
          "base_uri": "https://localhost:8080/",
          "height": 51
        },
        "outputId": "bc5ef57f-8bd6-497d-c975-2a2987b60e27"
      },
      "source": [
        "square(2)"
      ],
      "execution_count": null,
      "outputs": [
        {
          "output_type": "stream",
          "text": [
            "2 jika kamu kalikan dengan diri sendiri dan + 1 jadinya 5\n"
          ],
          "name": "stdout"
        },
        {
          "output_type": "execute_result",
          "data": {
            "text/plain": [
              "5"
            ]
          },
          "metadata": {
            "tags": []
          },
          "execution_count": 46
        }
      ]
    },
    {
      "cell_type": "markdown",
      "metadata": {
        "id": "nhOtlkzwV0Sw"
      },
      "source": [
        "## <h3 id=\"pre\">Pre-defined functions</h3>"
      ]
    },
    {
      "cell_type": "code",
      "metadata": {
        "id": "abbrBhIVa4Vc",
        "colab": {
          "base_uri": "https://localhost:8080/",
          "height": 34
        },
        "outputId": "7600e6e6-73ec-493b-906e-d76c3f1cdb8d"
      },
      "source": [
        "# Buat sebuah fungsi print()\n",
        "\n",
        "album_ratings = [10.0, 8.5, 9.5, 7.0, 7.0, 9.5, 9.0, 9.5] \n",
        "print(album_ratings)"
      ],
      "execution_count": null,
      "outputs": [
        {
          "output_type": "stream",
          "text": [
            "[10.0, 8.5, 9.5, 7.0, 7.0, 9.5, 9.0, 9.5]\n"
          ],
          "name": "stdout"
        }
      ]
    },
    {
      "cell_type": "code",
      "metadata": {
        "id": "lBjnJZHla4Vi",
        "colab": {
          "base_uri": "https://localhost:8080/",
          "height": 34
        },
        "outputId": "0e972b9c-ee1d-4202-fec9-2d19d08a7c16"
      },
      "source": [
        "# Gunakan fungsi sum() untuk menambah isi list atau tuple\n",
        "\n",
        "sum(album_ratings)"
      ],
      "execution_count": null,
      "outputs": [
        {
          "output_type": "execute_result",
          "data": {
            "text/plain": [
              "70.0"
            ]
          },
          "metadata": {
            "tags": []
          },
          "execution_count": 48
        }
      ]
    },
    {
      "cell_type": "markdown",
      "metadata": {
        "id": "4w6PJrEca4V0"
      },
      "source": [
        "## <h3 id=\"exer_exp_var\">LATIHAN: </h3>"
      ]
    },
    {
      "cell_type": "markdown",
      "metadata": {
        "id": "XKpy1GjJa4V1"
      },
      "source": [
        "<p>Berapa nilai <code>X</code> jika <code> X = 3 + 2 * 2</code></p>"
      ]
    },
    {
      "cell_type": "code",
      "metadata": {
        "id": "gfmCHsoOa4V1"
      },
      "source": [
        "# Tulis kodingmu kemudian eksekusi!"
      ],
      "execution_count": null,
      "outputs": []
    },
    {
      "cell_type": "markdown",
      "metadata": {
        "id": "_wb_MW1da4V7"
      },
      "source": [
        "Klik 2X __disini__ untuk lihat jawaban.\n",
        "\n",
        "<!-- Jawaban:\n",
        "7\n",
        "-->\n"
      ]
    },
    {
      "cell_type": "markdown",
      "metadata": {
        "id": "MScST9hka4V7"
      },
      "source": [
        "<p>Berapa nilai <code>Y</code> jika <code>Y = (3 + 2) * 2</code>?</p>"
      ]
    },
    {
      "cell_type": "code",
      "metadata": {
        "id": "3zNBfOzua4V8"
      },
      "source": [
        "# Tulis kodingmu kemudian eksekusi!"
      ],
      "execution_count": null,
      "outputs": []
    },
    {
      "cell_type": "markdown",
      "metadata": {
        "id": "qpBAOYeOa4V-"
      },
      "source": [
        "Klik 2X __disini__ untuk lihat jawaban.\n",
        "\n",
        "<!-- Jawaban:\n",
        "10\n",
        "-->"
      ]
    },
    {
      "cell_type": "markdown",
      "metadata": {
        "id": "jRJeN1mja4WA"
      },
      "source": [
        "<p>Berapa nilai <code>Z</code> jika <code> Z = X + Y</code>?</p>"
      ]
    },
    {
      "cell_type": "code",
      "metadata": {
        "id": "0GYlGqbVa4WA"
      },
      "source": [
        "# Tulis kodingmu kemudian eksekusi!"
      ],
      "execution_count": null,
      "outputs": []
    },
    {
      "cell_type": "markdown",
      "metadata": {
        "id": "_FonNUYna4WC"
      },
      "source": [
        "Klik 2X __disini__ untuk lihat jawaban.\n",
        "\n",
        "<!-- Jawaban:\n",
        "17\n",
        "-->"
      ]
    },
    {
      "cell_type": "markdown",
      "metadata": {
        "id": "qPiJSdDyH4mp"
      },
      "source": [
        "# <h2 id=\"strings\">Class dan Objek</h2>"
      ]
    },
    {
      "cell_type": "markdown",
      "metadata": {
        "id": "p9nTGPbMIFho"
      },
      "source": [
        "Kita akan buat dua kelas: Circle dan Rectangle. Kita harus setting terlebih dahulu atribut yang menempel ke kedua kelas tersebut."
      ]
    },
    {
      "cell_type": "markdown",
      "metadata": {
        "id": "K2rBPH7yW36n"
      },
      "source": [
        "<img src=\"https://s3-api.us-geo.objectstorage.softlayer.net/cf-courses-data/CognitiveClass/PY0101EN/Chapter%203/Images/ClassesClass.png\" width=\"500\" />"
      ]
    },
    {
      "cell_type": "markdown",
      "metadata": {
        "id": "hV0dUi5xW6ad"
      },
      "source": [
        "<i>Gambar 1: Kelas lingkaran (circle) dan persegi (rectangle). Kelas circle punya atribut radius dan warna, sedangkan kelas rectangle punya  atribut tinggi (height) dan lebar (width).</i>\n"
      ]
    },
    {
      "cell_type": "markdown",
      "metadata": {
        "id": "b9q1xPgeXG4n"
      },
      "source": [
        "## <h3 id=\"method\">Method</h3>"
      ]
    },
    {
      "cell_type": "markdown",
      "metadata": {
        "id": "iq-sLhzBXHlS"
      },
      "source": [
        "Method adalah cara interaksi dengan objeck. Contoh, misalkan kita ingin menambah jari-jari (radius) dari sebuah lingkaran. Kita dapat membuat method **add_radius(r)** yang akan menambah jarak **r**. Terlihat pada gambar 2:"
      ]
    },
    {
      "cell_type": "markdown",
      "metadata": {
        "id": "02uEAZClXKAK"
      },
      "source": [
        "<img src=\"https://s3-api.us-geo.objectstorage.softlayer.net/cf-courses-data/CognitiveClass/PY0101EN/Chapter%203/Images/ClassesMethod.png\" width=\"500\" /> "
      ]
    },
    {
      "cell_type": "markdown",
      "metadata": {
        "id": "n3ulnlfBXMEe"
      },
      "source": [
        "<i>Figure 2: Menjalankan method “add_radius” ke objek lingkaran berwarna oranye.</i>"
      ]
    },
    {
      "cell_type": "markdown",
      "metadata": {
        "id": "6F8Gme0sXP3-"
      },
      "source": [
        "# <h2 id=\"creating\">Membuat Kelas Lingkaran</h2>"
      ]
    },
    {
      "cell_type": "markdown",
      "metadata": {
        "id": "ZeJyGdbmXR4H"
      },
      "source": [
        "Nah sebelum membuat kelas lingkaran, pertama, kita harus melakukan <b>import</b> sebuah library untuk menggambar objek: "
      ]
    },
    {
      "cell_type": "code",
      "metadata": {
        "id": "ZpDaTS1CIQp9"
      },
      "source": [
        "# Import library\n",
        "\n",
        "import matplotlib.pyplot as plt\n",
        "%matplotlib inline  "
      ],
      "execution_count": null,
      "outputs": []
    },
    {
      "cell_type": "code",
      "metadata": {
        "id": "ET93XIlBInE7"
      },
      "source": [
        "# Buat class Circle\n",
        "\n",
        "class Circle(object):\n",
        "    \n",
        "    # Constructor\n",
        "    def __init__(self, radius=3, color='blue'):\n",
        "        self.radius = radius\n",
        "        self.color = color \n",
        "    \n",
        "    # Method\n",
        "    def add_radius(self, r):\n",
        "        self.radius = self.radius + r\n",
        "        return(self.radius)\n",
        "    \n",
        "    # Method\n",
        "    def drawCircle(self):\n",
        "        plt.gca().add_patch(plt.Circle((0, 0), radius=self.radius, fc=self.color))\n",
        "        plt.axis('scaled')\n",
        "        plt.show()  "
      ],
      "execution_count": null,
      "outputs": []
    },
    {
      "cell_type": "code",
      "metadata": {
        "id": "-OmNvVd-IxFU"
      },
      "source": [
        "# Buat objek RedCircle\n",
        "\n",
        "RedCircle = Circle(10, 'red')"
      ],
      "execution_count": null,
      "outputs": []
    },
    {
      "cell_type": "code",
      "metadata": {
        "id": "BnCj8KV1Xw1E",
        "colab": {
          "base_uri": "https://localhost:8080/",
          "height": 34
        },
        "outputId": "ae5d43f1-c2e9-4a5a-8c30-2796806551d5"
      },
      "source": [
        "# Cetak objek dengan atribut radius\n",
        "\n",
        "RedCircle.radius"
      ],
      "execution_count": null,
      "outputs": [
        {
          "output_type": "execute_result",
          "data": {
            "text/plain": [
              "10"
            ]
          },
          "metadata": {
            "tags": []
          },
          "execution_count": 4
        }
      ]
    },
    {
      "cell_type": "code",
      "metadata": {
        "id": "OcBDOnvAXxN0",
        "colab": {
          "base_uri": "https://localhost:8080/",
          "height": 34
        },
        "outputId": "af0c731e-461e-4352-fb2f-6200aa8cca07"
      },
      "source": [
        "# Cetak objek dengan atribut warna\n",
        "\n",
        "RedCircle.color"
      ],
      "execution_count": null,
      "outputs": [
        {
          "output_type": "execute_result",
          "data": {
            "text/plain": [
              "'red'"
            ]
          },
          "metadata": {
            "tags": []
          },
          "execution_count": 5
        }
      ]
    },
    {
      "cell_type": "code",
      "metadata": {
        "id": "z02_ABD1Xyvu",
        "colab": {
          "base_uri": "https://localhost:8080/",
          "height": 34
        },
        "outputId": "fb0b8334-54d1-49c7-8dcc-eb7c0f65e47b"
      },
      "source": [
        "# Set atribut objek radius = 1\n",
        "\n",
        "RedCircle.radius = 1\n",
        "RedCircle.radius"
      ],
      "execution_count": null,
      "outputs": [
        {
          "output_type": "execute_result",
          "data": {
            "text/plain": [
              "1"
            ]
          },
          "metadata": {
            "tags": []
          },
          "execution_count": 14
        }
      ]
    },
    {
      "cell_type": "code",
      "metadata": {
        "id": "uXJW0O-nX0Vn",
        "colab": {
          "base_uri": "https://localhost:8080/",
          "height": 269
        },
        "outputId": "aaa37e8c-4f36-4310-9b70-d5df7c8cbf56"
      },
      "source": [
        "# Panggil method drawCircle untuk menampilkan gambar lingkaran merah\n",
        "\n",
        "RedCircle.drawCircle()"
      ],
      "execution_count": null,
      "outputs": [
        {
          "output_type": "display_data",
          "data": {
            "image/png": "[encoded data removed]",
            "text/plain": [
              "<Figure size 432x288 with 1 Axes>"
            ]
          },
          "metadata": {
            "tags": []
          }
        }
      ]
    },
    {
      "cell_type": "code",
      "metadata": {
        "id": "5NPGxQFQX189",
        "colab": {
          "base_uri": "https://localhost:8080/",
          "height": 68
        },
        "outputId": "6220fe63-fb28-4284-cc3f-de3faa34a968"
      },
      "source": [
        "# Gunakan method untuk mengubah atribut objek radius\n",
        "\n",
        "print('Radius dari objek:',RedCircle.radius)\n",
        "RedCircle.add_radius(2)\n",
        "print('Radius dari objek setelah dikenakan method add_radius(2):',RedCircle.radius)\n",
        "RedCircle.add_radius(5)\n",
        "print('Radius dari objek setelah dikenakan method add_radius(5):',RedCircle.radius)"
      ],
      "execution_count": null,
      "outputs": [
        {
          "output_type": "stream",
          "text": [
            "Radius dari objek: 1\n",
            "Radius dari objek setelah dikenakan method add_radius(2): 3\n",
            "Radius dari objek setelah dikenakan method add_radius(5): 8\n"
          ],
          "name": "stdout"
        }
      ]
    },
    {
      "cell_type": "code",
      "metadata": {
        "id": "iS-34iMVX36f"
      },
      "source": [
        "# Buat lingkaran warna biru dengan radius = 100\n",
        "\n",
        "BlueCircle = Circle(radius=100)"
      ],
      "execution_count": null,
      "outputs": []
    },
    {
      "cell_type": "code",
      "metadata": {
        "id": "rqWfmRh1X5_U",
        "colab": {
          "base_uri": "https://localhost:8080/",
          "height": 34
        },
        "outputId": "5d73b042-8c45-4b78-c5b6-a713fdf19283"
      },
      "source": [
        "# Print the object attribute radius\n",
        "\n",
        "BlueCircle.radius"
      ],
      "execution_count": null,
      "outputs": [
        {
          "output_type": "execute_result",
          "data": {
            "text/plain": [
              "100"
            ]
          },
          "metadata": {
            "tags": []
          },
          "execution_count": 18
        }
      ]
    },
    {
      "cell_type": "code",
      "metadata": {
        "id": "qY2XylHiX7sJ",
        "colab": {
          "base_uri": "https://localhost:8080/",
          "height": 34
        },
        "outputId": "0c08e786-1fd7-42fd-80bd-e61512919753"
      },
      "source": [
        "# Print the object attribute warna\n",
        "\n",
        "BlueCircle.color"
      ],
      "execution_count": null,
      "outputs": [
        {
          "output_type": "execute_result",
          "data": {
            "text/plain": [
              "'blue'"
            ]
          },
          "metadata": {
            "tags": []
          },
          "execution_count": 19
        }
      ]
    },
    {
      "cell_type": "code",
      "metadata": {
        "id": "mo-ymCFXX9am",
        "colab": {
          "base_uri": "https://localhost:8080/",
          "height": 269
        },
        "outputId": "0bb8b4c1-29e7-4f9a-f6b0-1b2880502f25"
      },
      "source": [
        "# Panggil method drawCircle untuk menampilkan gambar lingkaran merah\n",
        "\n",
        "BlueCircle.drawCircle()"
      ],
      "execution_count": null,
      "outputs": [
        {
          "output_type": "display_data",
          "data": {
            "image/png": "[encoded data removed]",
            "text/plain": [
              "<Figure size 432x288 with 1 Axes>"
            ]
          },
          "metadata": {
            "tags": []
          }
        }
      ]
    },
    {
      "cell_type": "markdown",
      "metadata": {
        "id": "9WvwWTdxYFWq"
      },
      "source": [
        "Silakan bandingkan X dan Y dari masing-masing gambar untuk <b><code>RedCircle</code></b> dan <b><code>BlueCircle</code></b>; keduanya berbeda."
      ]
    },
    {
      "cell_type": "markdown",
      "metadata": {
        "id": "Zb0x0j7xYJjy"
      },
      "source": [
        "# <h2 id=\"rect\">Membuat Kelas Persegi</h2>"
      ]
    },
    {
      "cell_type": "markdown",
      "metadata": {
        "id": "cIMP7uCcYL_M"
      },
      "source": [
        "Saatnya buat kelas persegi dengan atribut tinggi (height), lebar (width) dan warna (color):"
      ]
    },
    {
      "cell_type": "code",
      "metadata": {
        "id": "keL2wx9QYMwl"
      },
      "source": [
        "# Buat kelas rectangle dengan beberapa method\n",
        "\n",
        "class Rectangle(object):\n",
        "    \n",
        "    # Constructor\n",
        "    def __init__(self, width=2, height=3, color='r'):\n",
        "        self.height = height \n",
        "        self.width = width\n",
        "        self.color = color\n",
        "    \n",
        "    # Method\n",
        "    def drawRectangle(self):\n",
        "        plt.gca().add_patch(plt.Rectangle((0, 0), self.width, self.height ,fc=self.color))\n",
        "        plt.axis('scaled')\n",
        "        plt.show()"
      ],
      "execution_count": null,
      "outputs": []
    },
    {
      "cell_type": "markdown",
      "metadata": {
        "id": "AhlEquvtYPhg"
      },
      "source": [
        "Selanjutnya kita buat objek <code>SkinnyBlueRectangle</code> dari kelas Rectangle dengan lebar 2, tinggi 3, dan berwarna biru:"
      ]
    },
    {
      "cell_type": "code",
      "metadata": {
        "id": "QCUkWnQRYQP1"
      },
      "source": [
        "# Buat objek persegi yang baru dengan nama SkinnyBlueRectangle, lebar 2, tinggi 3, dan berwarna biru\n",
        "\n",
        "SkinnyBlueRectangle = Rectangle(2, 10, 'blue')"
      ],
      "execution_count": null,
      "outputs": []
    },
    {
      "cell_type": "code",
      "metadata": {
        "id": "8MpLJ9lEYUKa",
        "colab": {
          "base_uri": "https://localhost:8080/",
          "height": 34
        },
        "outputId": "ba9494a0-092e-4659-ec60-19a3dd067518"
      },
      "source": [
        "SkinnyBlueRectangle.height "
      ],
      "execution_count": null,
      "outputs": [
        {
          "output_type": "execute_result",
          "data": {
            "text/plain": [
              "10"
            ]
          },
          "metadata": {
            "tags": []
          },
          "execution_count": 24
        }
      ]
    },
    {
      "cell_type": "code",
      "metadata": {
        "id": "RYEMZjC9YWPO",
        "colab": {
          "base_uri": "https://localhost:8080/",
          "height": 34
        },
        "outputId": "6f2d4f49-0b9c-43ef-b88f-b29c6543a55c"
      },
      "source": [
        "SkinnyBlueRectangle.width"
      ],
      "execution_count": null,
      "outputs": [
        {
          "output_type": "execute_result",
          "data": {
            "text/plain": [
              "2"
            ]
          },
          "metadata": {
            "tags": []
          },
          "execution_count": 25
        }
      ]
    },
    {
      "cell_type": "code",
      "metadata": {
        "id": "gbCX6yjoYXu_",
        "colab": {
          "base_uri": "https://localhost:8080/",
          "height": 34
        },
        "outputId": "84554aef-49c8-4909-b251-d0fa1c39ac63"
      },
      "source": [
        "SkinnyBlueRectangle.color"
      ],
      "execution_count": null,
      "outputs": [
        {
          "output_type": "execute_result",
          "data": {
            "text/plain": [
              "'blue'"
            ]
          },
          "metadata": {
            "tags": []
          },
          "execution_count": 26
        }
      ]
    },
    {
      "cell_type": "code",
      "metadata": {
        "id": "vux1lYQ0YZIr",
        "colab": {
          "base_uri": "https://localhost:8080/",
          "height": 269
        },
        "outputId": "654adb6a-646d-4b7d-a0fe-7f254452708d"
      },
      "source": [
        "# Cetak hasil dengan panggil method drawRectangle\n",
        "\n",
        "SkinnyBlueRectangle.drawRectangle()"
      ],
      "execution_count": null,
      "outputs": [
        {
          "output_type": "display_data",
          "data": {
            "image/png": "[encoded data removed]",
            "text/plain": [
              "<Figure size 432x288 with 1 Axes>"
            ]
          },
          "metadata": {
            "tags": []
          }
        }
      ]
    },
    {
      "cell_type": "markdown",
      "metadata": {
        "id": "pjgaroEiEgP0"
      },
      "source": [
        "# <h2 id=\"quiz\">QUIZ-2</h2>"
      ]
    },
    {
      "cell_type": "markdown",
      "metadata": {
        "id": "eEMsnz9jEga4"
      },
      "source": [
        "1) Buatlah kondisi <b>IF</b> apabila nilai lebih besar dari 8. Coba inputkan nilainya 8.5 <p>Apabila pernyataan benar maka cetak <b>\"Anak pintar!\""
      ]
    },
    {
      "cell_type": "code",
      "metadata": {
        "id": "t7FlNyOQH3pb",
        "colab": {
          "base_uri": "https://localhost:8080/",
          "height": 34
        },
        "outputId": "6bfdb71b-c736-4ce4-e4b6-dca80d8baad4"
      },
      "source": [
        "# Tuliskan kodingmu di bawah kemudian tekan Shift+Enter untuk eksekusi"
      ],
      "execution_count": null,
      "outputs": [
        {
          "output_type": "stream",
          "text": [
            "Anak pintar!\n"
          ],
          "name": "stdout"
        }
      ]
    },
    {
      "cell_type": "markdown",
      "metadata": {
        "id": "Hp8tU7zszDPw"
      },
      "source": [
        "2) Tuliskan koding dengan perulangan <b>while</b> untuk menampilkan nilai rating album dari list <b>PlayListRatings</b>. Apabila nilai rating kurang dari 6, keluar perulangan. List <b>PlayListRatings</b> = [10, 9.5, 10, 8, 7.5, 5, 10, 10]"
      ]
    },
    {
      "cell_type": "code",
      "metadata": {
        "id": "4fqNI9XiH38z"
      },
      "source": [
        "# Tuliskan kodingmu di bawah kemudian tekan Shift+Enter untuk eksekusi\n",
        "\n",
        "PlayListRatings = [10, 9.5, 10, 8, 7.5, 5, 10, 10]"
      ],
      "execution_count": null,
      "outputs": []
    },
    {
      "cell_type": "markdown",
      "metadata": {
        "id": "IG7fJYYZH4IC"
      },
      "source": [
        "3) Tuliskan koding perulangan <b>while</b> untuk copy string 'orange' dari list <b>squares</b> ke list <b>new_squares</b>. Baca semua isi <b>new_squares</b>dan tampilkan, tetapi berhenti dan keluar dari perulangan apabila nilai dalam list bukan 'orange':"
      ]
    },
    {
      "cell_type": "code",
      "metadata": {
        "id": "kBEAN13FH4VT"
      },
      "source": [
        "# Tuliskan kodingmu di bawah kemudian tekan Shift+Enter untuk eksekusi\n",
        "\n",
        "squares = ['orange', 'orange', 'purple', 'blue ', 'orange']\n",
        "new_squares = []"
      ],
      "execution_count": null,
      "outputs": []
    },
    {
      "cell_type": "markdown",
      "metadata": {
        "id": "_X14tl9UF_oE"
      },
      "source": [
        "# <h2 id=\"(c)\">(c)</h2>\n",
        "<p>Copyright &copy; 2019 <b>Evangs Mailoa</b>.</p>\n",
        "\n",
        "---\n",
        "\n",
        "\n",
        "<p>Digunakan khusus untuk ngajar Machine Learning di Progdi Teknik Informatika - FTI UKSW</p>"
      ]
    }
  ]
}